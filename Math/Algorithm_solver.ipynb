{
 "cells": [
  {
   "cell_type": "code",
   "execution_count": 46,
   "metadata": {},
   "outputs": [],
   "source": [
    "import re\n",
    "import time\n",
    "from time import sleep\n",
    "from functools import partial\n",
    "import ipywidgets as widgets\n",
    "from IPython.display import display, clear_output\n",
    "from itertools import product\n",
    "from sympy import symbols"
   ]
  },
  {
   "cell_type": "markdown",
   "metadata": {},
   "source": [
    "# Машина Тьюринга"
   ]
  },
  {
   "cell_type": "code",
   "execution_count": 47,
   "metadata": {},
   "outputs": [
    {
     "data": {
      "application/vnd.jupyter.widget-view+json": {
       "model_id": "aad861d43c244972abaa2fac75de0d8b",
       "version_major": 2,
       "version_minor": 0
      },
      "text/plain": [
       "Text(value='111*1111', description='Tape:', placeholder='Tape')"
      ]
     },
     "metadata": {},
     "output_type": "display_data"
    },
    {
     "data": {
      "application/vnd.jupyter.widget-view+json": {
       "model_id": "9310c991d0aa451ea7002b8d78431f80",
       "version_major": 2,
       "version_minor": 0
      },
      "text/plain": [
       "Textarea(value='q1 * -> qz 0 E\\nq1 1 -> q2 0 R\\nq2 1 -> q2 1 R\\nq2 * -> qz 1 E', description='Program:', place…"
      ]
     },
     "metadata": {},
     "output_type": "display_data"
    },
    {
     "data": {
      "application/vnd.jupyter.widget-view+json": {
       "model_id": "9e462abc50f84143a1777d6d5db86eae",
       "version_major": 2,
       "version_minor": 0
      },
      "text/plain": [
       "Button(description='Run', style=ButtonStyle(), tooltip='Run')"
      ]
     },
     "metadata": {},
     "output_type": "display_data"
    },
    {
     "data": {
      "application/vnd.jupyter.widget-view+json": {
       "model_id": "d47c0c9f6c1e49ee92ca263630994ee8",
       "version_major": 2,
       "version_minor": 0
      },
      "text/plain": [
       "Output()"
      ]
     },
     "metadata": {},
     "output_type": "display_data"
    }
   ],
   "source": [
    "#@title\n",
    "class TM:\n",
    "    def __init__(self):\n",
    "        self.state = 'q1'\n",
    "        self.pos = 0\n",
    "        self.tape = []\n",
    "\n",
    "\n",
    "    def print_state(self):\n",
    "        print(self.state + ':', ' ' * self.pos + 'V')\n",
    "        print(' ' * len(self.state) + ' ', ''.join(self.tape))\n",
    "\n",
    "\n",
    "    def execute_line(self, line):\n",
    "        state_A, sign_A, *other, state_B, sign_B, shift =  line.split()\n",
    "        if self.state == state_A and self.tape[self.pos] == sign_A:\n",
    "            self.state = state_B\n",
    "\n",
    "            if self.pos < 0:\n",
    "                self.pos = 0\n",
    "                self.tape.insert(0, sign_B)\n",
    "            elif self.pos >= len(self.tape):\n",
    "                self.tape.append(sign_B)\n",
    "            else:\n",
    "                self.tape[self.pos] = sign_B\n",
    "\n",
    "            if shift == 'L':\n",
    "                self.pos -= 1\n",
    "            elif shift == 'R':\n",
    "                self.pos += 1\n",
    "\n",
    "            if self.pos < 0:\n",
    "                self.pos = 0\n",
    "                self.tape.insert(0, '0')\n",
    "            elif self.pos >= len(self.tape):\n",
    "                self.tape.append('0')\n",
    "\n",
    "            return False\n",
    "        return True\n",
    "\n",
    "\n",
    "    def execute(self, tape, program, timeout=0.4, verbose=True):\n",
    "        self.tape = list(tape.strip('0'))\n",
    "        program = tuple(line.strip() for line in program.split('\\n') if line)\n",
    "        while self.state != 'qz':\n",
    "            if verbose: self.print_state()\n",
    "            for line in program:\n",
    "                executing = self.execute_line(line)\n",
    "                if not executing:\n",
    "                    break\n",
    "            if verbose: sleep(timeout)\n",
    "        if verbose: self.print_state()\n",
    "        return ''.join(self.tape).strip('0')\n",
    "\n",
    "\n",
    "\n",
    "text = widgets.Text(\n",
    "    value='111*1111',\n",
    "    placeholder='Tape',\n",
    "    description='Tape:',\n",
    ")\n",
    "\n",
    "textarea = widgets.Textarea(\n",
    "    value=\"\"\"q1 * -> qz 0 E\n",
    "q1 1 -> q2 0 R\n",
    "q2 1 -> q2 1 R\n",
    "q2 * -> qz 1 E\"\"\",\n",
    "    placeholder='Program',\n",
    "    description='Program:',\n",
    "    disabled=False\n",
    ")\n",
    "\n",
    "run = widgets.Button(\n",
    "    description='Run',\n",
    "    tooltip='Run',\n",
    ")\n",
    "\n",
    "output = widgets.Output()\n",
    "\n",
    "display(text, textarea, run, output)\n",
    "\n",
    "def on_run_button_clicked(b):\n",
    "    with output:\n",
    "        clear_output(wait=True)\n",
    "        prog = textarea.value\n",
    "        tape = text.value\n",
    "        tm = TM()\n",
    "        print('\\n', tm.execute(tape, prog, timeout=0.3))\n",
    "        \n",
    "run.on_click(on_run_button_clicked)"
   ]
  },
  {
   "cell_type": "code",
   "execution_count": 48,
   "metadata": {},
   "outputs": [
    {
     "name": "stdout",
     "output_type": "stream",
     "text": [
      "Tests started.\n",
      "For 4 vars. To max length 20.\n",
      "(0, 0, 0, 0)\n",
      "Output:  4\n",
      "Expected output:  2\n"
     ]
    }
   ],
   "source": [
    "def run_tests(n, f, lim=20):\n",
    "    print(f'Tests started.')\n",
    "    print(f'For {n} vars. To max length {lim}.')\n",
    "    prog = textarea.value\n",
    "    for varables in product(range(lim + 1), repeat=n):\n",
    "        tape = '*'.join('1'*v for v in varables)\n",
    "        tm = TM()\n",
    "        ans = tm.execute(tape, prog, timeout=0, verbose=False)\n",
    "        res = len(ans)\n",
    "        f_res = f(varables)\n",
    "        #print(tape, ans, res, f_res)\n",
    "        if res != f_res:\n",
    "            print(varables)\n",
    "            print('Output: ', f_res)\n",
    "            print('Expected output: ', res)\n",
    "            break\n",
    "    else:\n",
    "        print('Sucess for all tests!')\n",
    "\n",
    "\n",
    "def f(v):\n",
    "    x, y, z, w = v\n",
    "    return y + z + 4\n",
    "\n",
    "run_tests(4, f)"
   ]
  },
  {
   "cell_type": "markdown",
   "metadata": {},
   "source": [
    "# МНР"
   ]
  },
  {
   "cell_type": "code",
   "execution_count": 49,
   "metadata": {},
   "outputs": [
    {
     "data": {
      "application/vnd.jupyter.widget-view+json": {
       "model_id": "458f236bf559494293d21ea02b17aa0b",
       "version_major": 2,
       "version_minor": 0
      },
      "text/plain": [
       "Text(value='4, 7', description='Tape:', placeholder='Tape')"
      ]
     },
     "metadata": {},
     "output_type": "display_data"
    },
    {
     "data": {
      "application/vnd.jupyter.widget-view+json": {
       "model_id": "7802323f316a4ae7b8e11c413512bcbf",
       "version_major": 2,
       "version_minor": 0
      },
      "text/plain": [
       "Textarea(value='J(2, 3, 5)\\nJ(1, 3, 9)\\nS(3)\\nJ(1, 1, 1)\\nZ(1)\\nZ(2)\\nZ(3)\\nJ(1, 1, 100)\\nZ(1)\\nJ(2, 3, 14)\\nS…"
      ]
     },
     "metadata": {},
     "output_type": "display_data"
    },
    {
     "data": {
      "application/vnd.jupyter.widget-view+json": {
       "model_id": "cae1812ff6da457aba285d6ce85ae58e",
       "version_major": 2,
       "version_minor": 0
      },
      "text/plain": [
       "Button(description='Run', style=ButtonStyle(), tooltip='Run')"
      ]
     },
     "metadata": {},
     "output_type": "display_data"
    },
    {
     "data": {
      "application/vnd.jupyter.widget-view+json": {
       "model_id": "ff71d65d25a94e918f20bbd0798fc3bd",
       "version_major": 2,
       "version_minor": 0
      },
      "text/plain": [
       "Output()"
      ]
     },
     "metadata": {},
     "output_type": "display_data"
    }
   ],
   "source": [
    "#@title\n",
    "class MNR:\n",
    "    def __init__(self, tape, prog):\n",
    "        self.I = []\n",
    "        self.parser(prog)\n",
    "        self.R = {n: r for n, r in enumerate(tape, 1)}\n",
    "        self.i = 0\n",
    "\n",
    "    def Z(self, n):\n",
    "        if n in self.R:\n",
    "            self.R[n] = 0\n",
    "\n",
    "    def S(self, n):\n",
    "        if n in self.R:\n",
    "            self.R[n] += 1\n",
    "        else:\n",
    "            self.R[n] = 1\n",
    "\n",
    "    def T(self, m, n):\n",
    "        if m in self.R:\n",
    "            self.R[n] = self.R[m]\n",
    "        else:\n",
    "            self.R[n] = 0\n",
    "\n",
    "    def J(self, m, n, q):\n",
    "        if m in self.R and n in self.R:\n",
    "            if self.R[m] == self.R[n]:\n",
    "                self.i = q - 2\n",
    "        elif n in self.R:\n",
    "            if 0 == self.R[n]:\n",
    "                self.i = q - 2\n",
    "        elif m in self.R:\n",
    "            if self.R[m] == 0:\n",
    "                self.i = q - 2\n",
    "        else:\n",
    "            self.i = q - 2\n",
    "\n",
    "    def print_field(self):\n",
    "        print('I:', self.i + 1)\n",
    "        print('r:', end=' ')\n",
    "        for k, v in sorted(self.R.items()):\n",
    "            if k == 1 or k - 1 in self.R:\n",
    "                print('{: 3}'.format(v), end=' ')\n",
    "            else:\n",
    "                print('...', '{: 3}'.format(v), end=' ')\n",
    "        print()\n",
    "        print('R:', end=' ')\n",
    "        for k, v in sorted(self.R.items()):\n",
    "            if k == 1 or k - 1 in self.R:\n",
    "                print('{: 3}'.format(k), end=' ')\n",
    "            else:\n",
    "                print('...', '{: 3}'.format(k), end=' ')\n",
    "        print()\n",
    "\n",
    "    def parser(self, s):\n",
    "        for row in s.split('\\n'):\n",
    "            row = row.strip()\n",
    "            if re.match(r'J\\(\\s*\\d+\\s*,\\s*\\d+\\s*,\\s*\\d+\\s*\\)', row):\n",
    "                args = map(int, re.findall(r'\\d+', row))\n",
    "                self.I.append(partial(self.J, *args))\n",
    "            elif re.match(r'T\\(\\s*\\d+\\s*,\\s*\\d+\\s*\\)', row):\n",
    "                args = map(int, re.findall(r'\\d+', row))\n",
    "                self.I.append(partial(self.T, *args))\n",
    "            elif re.match(r'Z\\(\\s*\\d+\\s*\\)', row):\n",
    "                args = map(int, re.findall(r'\\d+', row))\n",
    "                self.I.append(partial(self.Z, *args))\n",
    "            elif re.match(r'S\\(\\s*\\d+\\s*\\)', row):\n",
    "                args = map(int, re.findall(r'\\d+', row))\n",
    "                self.I.append(partial(self.S, *args))\n",
    "\n",
    "    def run(self, timeout=0.4, verbose=True):\n",
    "        while self.i < len(self.I):\n",
    "            if verbose:\n",
    "                self.print_field()\n",
    "            time.sleep(timeout)\n",
    "            self.I[self.i]()\n",
    "            self.i += 1\n",
    "        if verbose:\n",
    "            self.print_field()\n",
    "        return list(self.R.values())[0]\n",
    "\n",
    "\n",
    "text = widgets.Text(\n",
    "    value='4, 7',\n",
    "    placeholder='Tape',\n",
    "    description='Tape:',\n",
    ")\n",
    "\n",
    "textarea = widgets.Textarea(\n",
    "    value=\"\"\"J(2, 3, 5)\n",
    "J(1, 3, 9)\n",
    "S(3)\n",
    "J(1, 1, 1)\n",
    "Z(1)\n",
    "Z(2)\n",
    "Z(3)\n",
    "J(1, 1, 100)\n",
    "Z(1)\n",
    "J(2, 3, 14)\n",
    "S(1)\n",
    "S(3)\n",
    "J(1, 1, 10)\n",
    "Z(2)\n",
    "Z(3)\"\"\",\n",
    "    placeholder='Program',\n",
    "    description='Program:',\n",
    "    disabled=False\n",
    ")\n",
    "\n",
    "run = widgets.Button(\n",
    "    description='Run',\n",
    "    tooltip='Run',\n",
    ")\n",
    "\n",
    "output = widgets.Output()\n",
    "\n",
    "display(text, textarea, run, output)\n",
    "\n",
    "def on_run_button_clicked(b):\n",
    "    with output:\n",
    "        clear_output(wait=True)\n",
    "        prog = textarea.value\n",
    "        tape = [int(i) for i in text.value.split(',')]\n",
    "        m = MNR(tape, prog)\n",
    "        m.run()\n",
    "        \n",
    "run.on_click(on_run_button_clicked)"
   ]
  },
  {
   "cell_type": "code",
   "execution_count": 50,
   "metadata": {},
   "outputs": [
    {
     "name": "stdout",
     "output_type": "stream",
     "text": [
      "Tests started.\n",
      "For 4 vars. To max length 20.\n",
      "(0, 0, 0, 0)\n",
      "Output:  1\n",
      "Expected output:  0\n"
     ]
    }
   ],
   "source": [
    "def run_tests(n, f, lim=20):\n",
    "    print(f'Tests started.')\n",
    "    print(f'For {n} vars. To max length {lim}.')\n",
    "    prog = textarea.value\n",
    "    for varables in product(range(lim + 1), repeat=n):\n",
    "        tape = varables\n",
    "        m = MNR(tape, prog)\n",
    "        ans = m.run(timeout=0, verbose=False)\n",
    "        res = ans\n",
    "        f_res = f(varables)\n",
    "        #print(tape, ans, res, f_res)\n",
    "        if res != f_res:\n",
    "            print(varables)\n",
    "            print('Output: ', f_res)\n",
    "            print('Expected output: ', res)\n",
    "            break\n",
    "    else:\n",
    "        print('Sucess for all tests!')\n",
    "\n",
    "\n",
    "def f(v):\n",
    "    x, y, z, w = v\n",
    "    if y > 3:\n",
    "        return x + 1\n",
    "    elif y < 3:\n",
    "        return w + 1\n",
    "    else:\n",
    "        return z\n",
    "\n",
    "run_tests(4, f)"
   ]
  },
  {
   "cell_type": "markdown",
   "metadata": {},
   "source": [
    "# Нормальный алгоритм Маркова"
   ]
  },
  {
   "cell_type": "code",
   "execution_count": 51,
   "metadata": {},
   "outputs": [
    {
     "data": {
      "application/vnd.jupyter.widget-view+json": {
       "model_id": "3a5af8d59add4ad4a2063066aa9371a9",
       "version_major": 2,
       "version_minor": 0
      },
      "text/plain": [
       "IntText(value=3, description='Vars count:')"
      ]
     },
     "metadata": {},
     "output_type": "display_data"
    },
    {
     "data": {
      "application/vnd.jupyter.widget-view+json": {
       "model_id": "1e1212f0baea48568d91244e21cfd9a4",
       "version_major": 2,
       "version_minor": 0
      },
      "text/plain": [
       "Textarea(value='11a -> 1a\\n1a1 -> 1y\\ny1 -> 1y\\ny* -> .\\na1 -> b\\nb1 -> b\\nb* -> .11\\n1* -> a', description='P…"
      ]
     },
     "metadata": {},
     "output_type": "display_data"
    },
    {
     "data": {
      "application/vnd.jupyter.widget-view+json": {
       "model_id": "33eae2e06ef14260b4aae12a0af2c918",
       "version_major": 2,
       "version_minor": 0
      },
      "text/plain": [
       "Button(description='Run', style=ButtonStyle(), tooltip='Run')"
      ]
     },
     "metadata": {},
     "output_type": "display_data"
    },
    {
     "data": {
      "application/vnd.jupyter.widget-view+json": {
       "model_id": "575e2592ff9a40aea7d0e26e74bcfcfa",
       "version_major": 2,
       "version_minor": 0
      },
      "text/plain": [
       "Output()"
      ]
     },
     "metadata": {},
     "output_type": "display_data"
    }
   ],
   "source": [
    "def instructions_parser(instr_str):\n",
    "    instructions = []\n",
    "    for row in instr_str.strip().replace(' ', '').split('\\n'):\n",
    "        instr_list = [i.strip() for i in row.split('->')]\n",
    "        if len(instr_list) == 1:\n",
    "            instr_list.insert(0, '')\n",
    "        instructions.append(tuple(instr_list))\n",
    "    return instructions\n",
    "\n",
    "\n",
    "class Markov:\n",
    "    def __init__(self, tape, instructions):\n",
    "        self.tape = tape\n",
    "        self.instructions = instructions_parser(instructions)\n",
    "        self.interval = 0\n",
    "\n",
    "    def run(self):\n",
    "        while True:\n",
    "            found_instr = False\n",
    "            for i in self.instructions:\n",
    "                to_instr = i[1].strip('.')\n",
    "                if i[0] in self.tape:\n",
    "                    found_instr = True\n",
    "                    if i[0] == '':\n",
    "                        self.tape = i[1].strip('.') + self.tape\n",
    "                    else:\n",
    "                        self.tape = self.tape.replace(i[0], to_instr, 1)\n",
    "                    if i[1].startswith('.'):\n",
    "                        return self.tape\n",
    "                    break\n",
    "                sleep(self.interval)\n",
    "            if not found_instr:\n",
    "                raise Exception('Infinite loop')\n",
    "\n",
    "\n",
    "textarea = widgets.Textarea(\n",
    "    value=\"\"\"11a -> 1a\n",
    "1a1 -> 1y\n",
    "y1 -> 1y\n",
    "y* -> .\n",
    "a1 -> b\n",
    "b1 -> b\n",
    "b* -> .11\n",
    "1* -> a\"\"\",\n",
    "    placeholder='Program',\n",
    "    description='Program:',\n",
    ")\n",
    "\n",
    "run = widgets.Button(\n",
    "    description='Run',\n",
    "    tooltip='Run',\n",
    ")\n",
    "\n",
    "output = widgets.Output()\n",
    "\n",
    "instructions = textarea.value\n",
    "\n",
    "'''\n",
    "m = Markov('1111*11*1111', instructions)\n",
    "res = len(m.run())\n",
    "print(res)\n",
    "\n",
    "'''\n",
    "\n",
    "def run_tests(n, lim=50):\n",
    "    print(f'Tests started.')\n",
    "    print(f'For {n} vars. To max length {lim}.')\n",
    "    for varables in product(range(1, lim + 1), repeat=n):\n",
    "        tape = '*'.join('1'*v for v in varables)\n",
    "        m = Markov(tape, instructions)\n",
    "        res = len(m.run())\n",
    "        f_res = f(varables)\n",
    "        #print(res, f_res)\n",
    "        if res != f_res:\n",
    "            print(varables)\n",
    "            print('Output: ', f_res)\n",
    "            print('Expected output: ', res)\n",
    "            break\n",
    "    else:\n",
    "        print('Sucess for all tests!')\n",
    "\n",
    "\n",
    "n = widgets.IntText(description='Vars count:', value=3)\n",
    "display(n, textarea, run, output)\n",
    "\n",
    "\n",
    "\"\"\"Function for test.\"\"\"\n",
    "def f(v):\n",
    "    x, y, z = v\n",
    "    if x > 1:\n",
    "        return y + z\n",
    "    else:\n",
    "        return z + 2\n",
    "\n",
    "\n",
    "def on_run_button_clicked(b):\n",
    "    with output:\n",
    "        clear_output(wait=True)\n",
    "        run_tests(n.value)\n",
    "\n",
    "run.on_click(on_run_button_clicked)"
   ]
  },
  {
   "cell_type": "markdown",
   "metadata": {},
   "source": [
    "# Примитивная рекурсия"
   ]
  },
  {
   "cell_type": "code",
   "execution_count": 52,
   "metadata": {},
   "outputs": [
    {
     "data": {
      "application/vnd.jupyter.widget-view+json": {
       "model_id": "52997cdaa1aa4cc6914c812d9aa1eef2",
       "version_major": 2,
       "version_minor": 0
      },
      "text/plain": [
       "Text(value='x', description='g(x)')"
      ]
     },
     "metadata": {},
     "output_type": "display_data"
    },
    {
     "data": {
      "application/vnd.jupyter.widget-view+json": {
       "model_id": "888e0ac4cb524853ad6c4ea76350916b",
       "version_major": 2,
       "version_minor": 0
      },
      "text/plain": [
       "Text(value='x + y', description='h(x, y, z)')"
      ]
     },
     "metadata": {},
     "output_type": "display_data"
    },
    {
     "data": {
      "application/vnd.jupyter.widget-view+json": {
       "model_id": "f62d5ddd61164955a93ccc28557fd1b9",
       "version_major": 2,
       "version_minor": 0
      },
      "text/plain": [
       "IntText(value=10, description='Steps:')"
      ]
     },
     "metadata": {},
     "output_type": "display_data"
    },
    {
     "data": {
      "application/vnd.jupyter.widget-view+json": {
       "model_id": "06e61b579f6b4062a6e76965c5c48abf",
       "version_major": 2,
       "version_minor": 0
      },
      "text/plain": [
       "Button(description='Run', style=ButtonStyle(), tooltip='Run')"
      ]
     },
     "metadata": {},
     "output_type": "display_data"
    },
    {
     "data": {
      "application/vnd.jupyter.widget-view+json": {
       "model_id": "6b777a3354e44cd8b128cda566f02fdf",
       "version_major": 2,
       "version_minor": 0
      },
      "text/plain": [
       "Output()"
      ]
     },
     "metadata": {},
     "output_type": "display_data"
    }
   ],
   "source": [
    "#@title\n",
    "g = widgets.Text(value='x', description='g(x)')\n",
    "h = widgets.Text(value='x + y', description='h(x, y, z)')\n",
    "s = widgets.IntText(value='10', description='Steps:')\n",
    "\n",
    "run = widgets.Button(\n",
    "    description='Run',\n",
    "    tooltip='Run',\n",
    ")\n",
    "\n",
    "output = widgets.Output()\n",
    "\n",
    "display(g, h, s, run, output)\n",
    "\n",
    "\n",
    "def calc_to_step(step=10):\n",
    "    print(f'f(x, 0) = g(x) = {g.value}')\n",
    "    x, y, z = symbols('x y z')\n",
    "    prev_step = eval(g.value)\n",
    "    for i in range(1, step + 1):\n",
    "        res = eval(h.value).subs({y: i - 1, z: prev_step})\n",
    "        print(f'f(x, {i}) = h(x, {i - 1}, f(x, {i - 1})) = {res}')\n",
    "        prev_step = res\n",
    "        \n",
    "\n",
    "def on_run_button_clicked(b):\n",
    "    with output:\n",
    "        clear_output(wait=True)\n",
    "        calc_to_step(s.value)\n",
    "        \n",
    "\n",
    "run.on_click(on_run_button_clicked)"
   ]
  },
  {
   "cell_type": "markdown",
   "metadata": {},
   "source": [
    "# Теория нумераций"
   ]
  },
  {
   "cell_type": "code",
   "execution_count": 53,
   "metadata": {},
   "outputs": [],
   "source": [
    "Pi = lambda m, n: 2**m * (2*n + 1) - 1\n",
    "\n",
    "Dzeta = lambda m, n, q: Pi(Pi(m - 1, n - 1), q - 1)\n",
    "\n",
    "def Tau(*a):\n",
    "    res = 0\n",
    "    for n, _ in enumerate(a):\n",
    "        res += 2**(sum(a[:n + 1]) + n)\n",
    "    return res - 1\n",
    "\n",
    "def Beta(f, *p):\n",
    "    if f == 'Z':\n",
    "        return 4 * (p[0] - 1)\n",
    "    elif f == 'S':\n",
    "        return 4 * (p[0] - 1) + 1\n",
    "    elif f == 'T':\n",
    "        return 4 * Pi(p[0] - 1, p[1] - 1) + 2\n",
    "    elif f == 'J':\n",
    "        return 4 * Dzeta(p[0], p[1], p[2]) + 3\n",
    "\n",
    "def C_2(x, y):\n",
    "    return ((x + y)**2 + 3*x + y)/2\n",
    "\n",
    "def C_3(x, y, z):\n",
    "    return C_2(C_2(x, y), z)\n"
   ]
  },
  {
   "cell_type": "code",
   "execution_count": 54,
   "metadata": {},
   "outputs": [
    {
     "data": {
      "text/plain": [
       "7.0"
      ]
     },
     "execution_count": 54,
     "metadata": {},
     "output_type": "execute_result"
    }
   ],
   "source": [
    "C_2(1, 2)"
   ]
  }
 ],
 "metadata": {
  "kernelspec": {
   "display_name": "Python 3",
   "language": "python",
   "name": "python3"
  },
  "language_info": {
   "codemirror_mode": {
    "name": "ipython",
    "version": 3
   },
   "file_extension": ".py",
   "mimetype": "text/x-python",
   "name": "python",
   "nbconvert_exporter": "python",
   "pygments_lexer": "ipython3",
   "version": "3.9.1"
  }
 },
 "nbformat": 4,
 "nbformat_minor": 4
}
