{
 "cells": [
  {
   "cell_type": "code",
   "execution_count": 3,
   "metadata": {},
   "outputs": [],
   "source": [
    "import numpy as np\n",
    "import pandas as pd\n",
    "\n",
    "\n",
    "# python 3.7.3\n",
    "\n",
    "# pd.set_option('display.max_rows', 100)\n",
    "# pd.set_option('display.max_columns', 100)\n",
    "\n",
    "# \"мудрое\" умножение\n",
    "def wisdom_multiplication(x, y, length_check = True):\n",
    "    a, b = 100 - x, 100 - y\n",
    "    return int(str(100 - (a + b)) + (str(a * b).zfill(2) if length_check else str(a * b)))\n",
    "\n",
    "# проверка значения произведения\n",
    "def multiplication_check(x, y, length_check = True):\n",
    "    return wisdom_multiplication(x, y, length_check) == x * y\n",
    "\n",
    "# маркировка ячеек\n",
    "def color_cells(cell):\n",
    "    # жёлтым помечаются ячейки, в которых значение произведения верное без добавления 0 при конкатенации\n",
    "    if multiplication_check(cell.i, cell.j, False):\n",
    "        return 'background-color: yellow'\n",
    "    # красным помечаются ячейки, в которых значение произведения верное при добавлении 0 при конкатенации\n",
    "    elif multiplication_check(cell.i, cell.j, True):\n",
    "        return 'background-color: red'\n",
    "    return 'background-color: white'\n",
    "\n",
    "class Cell:\n",
    "    def __init__(self, i, j):\n",
    "        self.i = i\n",
    "        self.j = j\n",
    "        \n",
    "    def __repr__(self):\n",
    "        return f'{self.i}x{self.j}'\n",
    "\n",
    "\n",
    "index=range(10, 100)\n",
    "data = [{j: Cell(i, j) for j in range(10,100)} for i in range(10,100)]\n",
    "\n",
    "df = pd.DataFrame(data=data, index=index)\n",
    "styled_table = df.style.applymap(color_cells)\n",
    "\n",
    "html = styled_table.render()\n",
    "with open('pd_table.html', 'w') as f:\n",
    "    f.write(html)"
   ]
  },
  {
   "cell_type": "code",
   "execution_count": null,
   "metadata": {},
   "outputs": [],
   "source": []
  }
 ],
 "metadata": {
  "kernelspec": {
   "display_name": "Python 3",
   "language": "python",
   "name": "python3"
  },
  "language_info": {
   "codemirror_mode": {
    "name": "ipython",
    "version": 3
   },
   "file_extension": ".py",
   "mimetype": "text/x-python",
   "name": "python",
   "nbconvert_exporter": "python",
   "pygments_lexer": "ipython3",
   "version": "3.7.3"
  }
 },
 "nbformat": 4,
 "nbformat_minor": 2
}
