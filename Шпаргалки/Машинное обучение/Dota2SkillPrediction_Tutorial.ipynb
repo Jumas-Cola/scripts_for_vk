{
 "cells": [
  {
   "cell_type": "markdown",
   "metadata": {},
   "source": [
    "# Определение опытных игроков Dota 2 (руководство по решению)\n",
    "\n",
    "В игре Dota 2 участвуют две стороны: команды сил Света (The Radiant) и сил Тьмы (The Dire). Каждая команда состоит из 5 игроков — персонажей со своими уникальными способностями. Перед началом матча каждый игрок выбирает себе одного героя из 116 возможных. Цель игры — разрушить трон, находящийся на базе противника.\n",
    "\n",
    "Повышая игровые навыки, игроки повышают свой рейтинг и получают медали опыта. Эксперты по игре Dota 2 утверждают, что легко могут отличить матч новичка от игры опытного игрока.\n",
    "\n",
    "**Задача — построить алгоритм, который сможет определять опытность игрока по статистике из одного матча.**"
   ]
  },
  {
   "cell_type": "markdown",
   "metadata": {},
   "source": [
    "## Таблицы с данными\n",
    "\n",
    "Рассмотрим упрощённый набор данных в виде таблиц `skill_train.csv` и `skill_test.csv`, с которыми удобно оперировать и подавать в алгоритмы машинного обучения."
   ]
  },
  {
   "cell_type": "code",
   "execution_count": 1,
   "metadata": {
    "ExecuteTime": {
     "end_time": "2019-03-08T17:10:37.801449Z",
     "start_time": "2019-03-08T17:10:37.099793Z"
    }
   },
   "outputs": [
    {
     "name": "stdout",
     "output_type": "stream",
     "text": [
      "Populating the interactive namespace from numpy and matplotlib\n"
     ]
    }
   ],
   "source": [
    "%pylab inline\n",
    "import pandas"
   ]
  },
  {
   "cell_type": "code",
   "execution_count": 3,
   "metadata": {
    "ExecuteTime": {
     "end_time": "2019-03-08T17:10:39.259722Z",
     "start_time": "2019-03-08T17:10:37.804809Z"
    }
   },
   "outputs": [],
   "source": [
    "df_train = pandas.read_csv('data/dota2_skill_train.csv', index_col='id')\n",
    "df_test = pandas.read_csv('data/dota2_skill_test.csv', index_col='id')"
   ]
  },
  {
   "cell_type": "code",
   "execution_count": 4,
   "metadata": {
    "ExecuteTime": {
     "end_time": "2019-03-08T17:10:39.298743Z",
     "start_time": "2019-03-08T17:10:39.263048Z"
    }
   },
   "outputs": [
    {
     "data": {
      "text/html": [
       "<div>\n",
       "<style scoped>\n",
       "    .dataframe tbody tr th:only-of-type {\n",
       "        vertical-align: middle;\n",
       "    }\n",
       "\n",
       "    .dataframe tbody tr th {\n",
       "        vertical-align: top;\n",
       "    }\n",
       "\n",
       "    .dataframe thead th {\n",
       "        text-align: right;\n",
       "    }\n",
       "</style>\n",
       "<table border=\"1\" class=\"dataframe\">\n",
       "  <thead>\n",
       "    <tr style=\"text-align: right;\">\n",
       "      <th></th>\n",
       "      <th>skilled</th>\n",
       "      <th>player_team</th>\n",
       "      <th>winner_team</th>\n",
       "      <th>duration</th>\n",
       "      <th>pre_game_duration</th>\n",
       "      <th>first_blood_time</th>\n",
       "      <th>first_blood_claimed</th>\n",
       "      <th>hero_id</th>\n",
       "      <th>hero_pick_order</th>\n",
       "      <th>leaver_status</th>\n",
       "      <th>...</th>\n",
       "      <th>avg_deaths_x16</th>\n",
       "      <th>avg_assists_x16</th>\n",
       "      <th>avg_gpm_x16</th>\n",
       "      <th>avg_xpm_x16</th>\n",
       "      <th>best_kills_x16</th>\n",
       "      <th>best_assists_x16</th>\n",
       "      <th>best_gpm_x16</th>\n",
       "      <th>best_xpm_x16</th>\n",
       "      <th>win_streak</th>\n",
       "      <th>best_win_streak</th>\n",
       "    </tr>\n",
       "    <tr>\n",
       "      <th>id</th>\n",
       "      <th></th>\n",
       "      <th></th>\n",
       "      <th></th>\n",
       "      <th></th>\n",
       "      <th></th>\n",
       "      <th></th>\n",
       "      <th></th>\n",
       "      <th></th>\n",
       "      <th></th>\n",
       "      <th></th>\n",
       "      <th></th>\n",
       "      <th></th>\n",
       "      <th></th>\n",
       "      <th></th>\n",
       "      <th></th>\n",
       "      <th></th>\n",
       "      <th></th>\n",
       "      <th></th>\n",
       "      <th></th>\n",
       "      <th></th>\n",
       "      <th></th>\n",
       "    </tr>\n",
       "  </thead>\n",
       "  <tbody>\n",
       "    <tr>\n",
       "      <td>7</td>\n",
       "      <td>1</td>\n",
       "      <td>dire</td>\n",
       "      <td>dire</td>\n",
       "      <td>2140</td>\n",
       "      <td>90</td>\n",
       "      <td>129</td>\n",
       "      <td>0</td>\n",
       "      <td>90</td>\n",
       "      <td>9</td>\n",
       "      <td>0</td>\n",
       "      <td>...</td>\n",
       "      <td>8</td>\n",
       "      <td>15</td>\n",
       "      <td>352</td>\n",
       "      <td>430</td>\n",
       "      <td>10</td>\n",
       "      <td>30</td>\n",
       "      <td>551</td>\n",
       "      <td>745</td>\n",
       "      <td>2</td>\n",
       "      <td>5</td>\n",
       "    </tr>\n",
       "    <tr>\n",
       "      <td>8</td>\n",
       "      <td>0</td>\n",
       "      <td>radiant</td>\n",
       "      <td>radiant</td>\n",
       "      <td>2138</td>\n",
       "      <td>90</td>\n",
       "      <td>174</td>\n",
       "      <td>0</td>\n",
       "      <td>5</td>\n",
       "      <td>5</td>\n",
       "      <td>0</td>\n",
       "      <td>...</td>\n",
       "      <td>9</td>\n",
       "      <td>19</td>\n",
       "      <td>294</td>\n",
       "      <td>425</td>\n",
       "      <td>13</td>\n",
       "      <td>37</td>\n",
       "      <td>445</td>\n",
       "      <td>717</td>\n",
       "      <td>2</td>\n",
       "      <td>12</td>\n",
       "    </tr>\n",
       "    <tr>\n",
       "      <td>12</td>\n",
       "      <td>0</td>\n",
       "      <td>radiant</td>\n",
       "      <td>radiant</td>\n",
       "      <td>3547</td>\n",
       "      <td>90</td>\n",
       "      <td>360</td>\n",
       "      <td>0</td>\n",
       "      <td>81</td>\n",
       "      <td>7</td>\n",
       "      <td>0</td>\n",
       "      <td>...</td>\n",
       "      <td>7</td>\n",
       "      <td>9</td>\n",
       "      <td>493</td>\n",
       "      <td>543</td>\n",
       "      <td>23</td>\n",
       "      <td>18</td>\n",
       "      <td>691</td>\n",
       "      <td>762</td>\n",
       "      <td>3</td>\n",
       "      <td>3</td>\n",
       "    </tr>\n",
       "    <tr>\n",
       "      <td>13</td>\n",
       "      <td>1</td>\n",
       "      <td>dire</td>\n",
       "      <td>radiant</td>\n",
       "      <td>1878</td>\n",
       "      <td>90</td>\n",
       "      <td>28</td>\n",
       "      <td>0</td>\n",
       "      <td>74</td>\n",
       "      <td>9</td>\n",
       "      <td>0</td>\n",
       "      <td>...</td>\n",
       "      <td>7</td>\n",
       "      <td>12</td>\n",
       "      <td>515</td>\n",
       "      <td>583</td>\n",
       "      <td>25</td>\n",
       "      <td>34</td>\n",
       "      <td>869</td>\n",
       "      <td>935</td>\n",
       "      <td>0</td>\n",
       "      <td>6</td>\n",
       "    </tr>\n",
       "    <tr>\n",
       "      <td>14</td>\n",
       "      <td>1</td>\n",
       "      <td>dire</td>\n",
       "      <td>radiant</td>\n",
       "      <td>2232</td>\n",
       "      <td>90</td>\n",
       "      <td>129</td>\n",
       "      <td>0</td>\n",
       "      <td>14</td>\n",
       "      <td>6</td>\n",
       "      <td>0</td>\n",
       "      <td>...</td>\n",
       "      <td>10</td>\n",
       "      <td>16</td>\n",
       "      <td>337</td>\n",
       "      <td>452</td>\n",
       "      <td>34</td>\n",
       "      <td>43</td>\n",
       "      <td>672</td>\n",
       "      <td>797</td>\n",
       "      <td>0</td>\n",
       "      <td>9</td>\n",
       "    </tr>\n",
       "  </tbody>\n",
       "</table>\n",
       "<p>5 rows × 57 columns</p>\n",
       "</div>"
      ],
      "text/plain": [
       "    skilled player_team winner_team  duration  pre_game_duration  \\\n",
       "id                                                                 \n",
       "7         1        dire        dire      2140                 90   \n",
       "8         0     radiant     radiant      2138                 90   \n",
       "12        0     radiant     radiant      3547                 90   \n",
       "13        1        dire     radiant      1878                 90   \n",
       "14        1        dire     radiant      2232                 90   \n",
       "\n",
       "    first_blood_time  first_blood_claimed  hero_id  hero_pick_order  \\\n",
       "id                                                                    \n",
       "7                129                    0       90                9   \n",
       "8                174                    0        5                5   \n",
       "12               360                    0       81                7   \n",
       "13                28                    0       74                9   \n",
       "14               129                    0       14                6   \n",
       "\n",
       "    leaver_status  ...  avg_deaths_x16  avg_assists_x16  avg_gpm_x16  \\\n",
       "id                 ...                                                 \n",
       "7               0  ...               8               15          352   \n",
       "8               0  ...               9               19          294   \n",
       "12              0  ...               7                9          493   \n",
       "13              0  ...               7               12          515   \n",
       "14              0  ...              10               16          337   \n",
       "\n",
       "    avg_xpm_x16  best_kills_x16  best_assists_x16  best_gpm_x16  best_xpm_x16  \\\n",
       "id                                                                              \n",
       "7           430              10                30           551           745   \n",
       "8           425              13                37           445           717   \n",
       "12          543              23                18           691           762   \n",
       "13          583              25                34           869           935   \n",
       "14          452              34                43           672           797   \n",
       "\n",
       "    win_streak  best_win_streak  \n",
       "id                               \n",
       "7            2                5  \n",
       "8            2               12  \n",
       "12           3                3  \n",
       "13           0                6  \n",
       "14           0                9  \n",
       "\n",
       "[5 rows x 57 columns]"
      ]
     },
     "execution_count": 4,
     "metadata": {},
     "output_type": "execute_result"
    }
   ],
   "source": [
    "df_train.head()"
   ]
  },
  {
   "cell_type": "markdown",
   "metadata": {},
   "source": [
    "### Значение полей таблиц с данными\n",
    "\n",
    "Целевая переменная:\n",
    "- `skilled`: 1 — опытный игрок, 0 — новичок; эту колонку необходимо предсказывать для тестовой выборки\n",
    "\n",
    "Информация про матч:\n",
    "- `player_team`: команда, за которую играл игрок (`radiant` или `dire`)\n",
    "- `winner_team`: победившая команда\n",
    "- `hero_id`: идентификатор героя, за которого играл целевой игрок (расшифровку см. в таблице `heroes.csv`)\n",
    "- `duration`: длительность игры в секундах\n",
    "- `first_blood_time`: время события \"первая кровь\"\n",
    "- `first_blood_claimed`: сделал ли целевой игрок \"первую кровь\"\n",
    "- `party_players`: сколько игроков было в \"пати\" вместе с целевым\n",
    "\n",
    "Показатели целевого игрока в матче:\n",
    "- `kills`, `deaths`, `assists`, `denies`, `last_hits` — основные игровые показатели (число убийств вражеских героев, число смертей, и др.)\n",
    "- `stuns`: нанесенные \"оглушения\" (в секундах)\n",
    "- `level`: уровень, которого достиг герой к концу игры\n",
    "- `net_worth`: общая стоимость всего инвентаря героя\n",
    "- `gold`: число золота на момент игры\n",
    "- `gold_spent`: сумма потраченного золота за всю игру\n",
    "- `gold_per_min`: скорость зарабатывания золота\n",
    "- `xp_per_min`: скорость получения опыта\n",
    "- `hero_damage`: суммарный урон по вражеским героям\n",
    "- `tower_damage`: сумарный урон по вражеским башням\n",
    "- `hero_healing`: суммарное восстановленное здоровье союзных героев \n",
    "- `team_fight_participation`: участие в драках\n",
    "- `observer_wards_placed`, `sentry_wards_placed`: количество установленных на карту \"вардов\" (предметы, дающие обзор)\n",
    "- `rune_pickups`: количество собранных рун\n",
    "- `radiant_tower_status`, `dire_tower_status`: состояние башен команд на конец игры (см. [расшифровку](https://wiki.teamfortress.com/wiki/WebAPI/GetMatchDetails#Tower_Status))\n",
    "- `radiant_barracks_status`, `dire_barracks_status`: состояние бараков команд на конец игры (см. [расшифровку](https://wiki.teamfortress.com/wiki/WebAPI/GetMatchDetails#Barracks_Status))\n",
    "\n",
    "Показатели по последним матчам игрока:\n",
    "- `avg_kills_x16`, `avg_deaths_x16`, `avg_assists_x16`, `avg_gpm_x16`, `avg_xpm_x16`: средние значения показателей за последние 16 игр\n",
    "- `best_kills_x16`, `best_assists_x16`, `best_gpm_x16`, `best_xpm_x16`: максимальные значения показателей за последние 16 игр\n",
    "- `win_streak`, `best_win_streak`: число подряд выигранных матчей до текущего, максимальное число подряд выигранных матчей"
   ]
  },
  {
   "cell_type": "markdown",
   "metadata": {},
   "source": [
    "## Расширенный набор данных\n",
    "\n",
    "В дополнение к таблицам имеются расширенные наборы данных: `skill_train.jsonlines`, `skill_test.jsonlines` — это текстовые файлы, в каждой строчке записан объект в формате [JSON](https://ru.wikipedia.org/wiki/JSON). В объектах есть все поля из таблиц, но кроме этого есть дополнительные поля, список приведен ниже."
   ]
  },
  {
   "cell_type": "markdown",
   "metadata": {},
   "source": [
    "Пример чтения файла в формате \"JSON Lines\":"
   ]
  },
  {
   "cell_type": "code",
   "execution_count": 4,
   "metadata": {
    "ExecuteTime": {
     "end_time": "2019-03-08T17:10:39.311517Z",
     "start_time": "2019-03-08T17:10:39.303490Z"
    }
   },
   "outputs": [],
   "source": [
    "with open('data/dota2_skill_train.jsonlines') as fin:\n",
    "    for line in fin:\n",
    "        record = json.loads(line)\n",
    "        # обработка record\n",
    "        \n",
    "        break"
   ]
  },
  {
   "cell_type": "markdown",
   "metadata": {},
   "source": [
    "### Значения полей\n",
    "\n",
    "- `damage_targets`: количество нанесенного игроком урона по всем видам юнитов\n",
    "- `radiant_heroes`, `dire_heroes`: список идентификаторов героев у всех игроков в команде (расшифровку см. в таблице `heroes.csv`)\n",
    "- `final_items`: предметы инвентаря, собранные игроком к концу игры (0 означает отсутствие предмета в соответствующем слоте, расшифровку предметов см. в таблице `items.csv`)\n",
    "- `level_up_times`: время, в которое герой игрока повышал уровень\n",
    "- `ability_upgrades`: последовательность улучшений умений, которые делал игрок (возможность улучшить умение возникает при повышении уровня героя, расшифровка умений см. в таблице `abilities.csv`)\n",
    "- `item_purchase_log`\n",
    "- `series`: временные ряды изменения игровых показателей во времени\n",
    "  - `time`: отсчеты времени\n",
    "  - `radiant_gold`, `dire_gold`: суммарное число золота, заработанного командами\n",
    "  - `player_gold`: число золота, заработанное игроком"
   ]
  },
  {
   "cell_type": "markdown",
   "metadata": {},
   "source": [
    "Рассмотрим один пример из расширенного набора. Как и в таблицах, каждая запись имеет свой идентификатор:"
   ]
  },
  {
   "cell_type": "code",
   "execution_count": 5,
   "metadata": {
    "ExecuteTime": {
     "end_time": "2019-03-08T17:10:39.325009Z",
     "start_time": "2019-03-08T17:10:39.315303Z"
    }
   },
   "outputs": [
    {
     "data": {
      "text/plain": [
       "7"
      ]
     },
     "execution_count": 5,
     "metadata": {},
     "output_type": "execute_result"
    }
   ],
   "source": [
    "record['id']"
   ]
  },
  {
   "cell_type": "markdown",
   "metadata": {},
   "source": [
    "#### Изменение золота в игре"
   ]
  },
  {
   "cell_type": "code",
   "execution_count": 6,
   "metadata": {
    "ExecuteTime": {
     "end_time": "2019-03-08T17:10:39.575686Z",
     "start_time": "2019-03-08T17:10:39.328745Z"
    }
   },
   "outputs": [
    {
     "data": {
      "image/png": "[encoded data removed]",
      "text/plain": [
       "<matplotlib.figure.Figure at 0x1104bc4a8>"
      ]
     },
     "metadata": {},
     "output_type": "display_data"
    }
   ],
   "source": [
    "series = record['series']\n",
    "plot(series['time'], series['radiant_gold'])\n",
    "plot(series['time'], series['dire_gold'])\n",
    "plot(series['time'], series['player_gold'])\n",
    "title('Gold time series')\n",
    "_ = legend(['radiant', 'dire', 'player'])"
   ]
  },
  {
   "cell_type": "markdown",
   "metadata": {},
   "source": [
    "В качестве вспомогательной информации есть описание героев `heroes.csv`, предметов `items.csv` и умений `abilities.csv`."
   ]
  },
  {
   "cell_type": "markdown",
   "metadata": {},
   "source": [
    "#### Составы команд"
   ]
  },
  {
   "cell_type": "code",
   "execution_count": 7,
   "metadata": {
    "ExecuteTime": {
     "end_time": "2019-03-08T17:10:39.644937Z",
     "start_time": "2019-03-08T17:10:39.580393Z"
    }
   },
   "outputs": [],
   "source": [
    "df_heroes = pandas.read_csv('data/dota2_heroes.csv', index_col='hero_id')"
   ]
  },
  {
   "cell_type": "markdown",
   "metadata": {},
   "source": [
    "Герои команды **Radiant**:"
   ]
  },
  {
   "cell_type": "code",
   "execution_count": 8,
   "metadata": {
    "ExecuteTime": {
     "end_time": "2019-03-08T17:10:39.728148Z",
     "start_time": "2019-03-08T17:10:39.649452Z"
    }
   },
   "outputs": [
    {
     "data": {
      "text/html": [
       "<div>\n",
       "<style scoped>\n",
       "    .dataframe tbody tr th:only-of-type {\n",
       "        vertical-align: middle;\n",
       "    }\n",
       "\n",
       "    .dataframe tbody tr th {\n",
       "        vertical-align: top;\n",
       "    }\n",
       "\n",
       "    .dataframe thead th {\n",
       "        text-align: right;\n",
       "    }\n",
       "</style>\n",
       "<table border=\"1\" class=\"dataframe\">\n",
       "  <thead>\n",
       "    <tr style=\"text-align: right;\">\n",
       "      <th></th>\n",
       "      <th>name</th>\n",
       "      <th>localized_name</th>\n",
       "      <th>roles</th>\n",
       "      <th>agi_gain</th>\n",
       "      <th>attack_range</th>\n",
       "      <th>attack_rate</th>\n",
       "      <th>attack_type</th>\n",
       "      <th>base_agi</th>\n",
       "      <th>base_armor</th>\n",
       "      <th>base_attack_max</th>\n",
       "      <th>...</th>\n",
       "      <th>base_mr</th>\n",
       "      <th>base_str</th>\n",
       "      <th>cm_enabled</th>\n",
       "      <th>int_gain</th>\n",
       "      <th>legs</th>\n",
       "      <th>move_speed</th>\n",
       "      <th>primary_attr</th>\n",
       "      <th>projectile_speed</th>\n",
       "      <th>str_gain</th>\n",
       "      <th>turn_rate</th>\n",
       "    </tr>\n",
       "    <tr>\n",
       "      <th>hero_id</th>\n",
       "      <th></th>\n",
       "      <th></th>\n",
       "      <th></th>\n",
       "      <th></th>\n",
       "      <th></th>\n",
       "      <th></th>\n",
       "      <th></th>\n",
       "      <th></th>\n",
       "      <th></th>\n",
       "      <th></th>\n",
       "      <th></th>\n",
       "      <th></th>\n",
       "      <th></th>\n",
       "      <th></th>\n",
       "      <th></th>\n",
       "      <th></th>\n",
       "      <th></th>\n",
       "      <th></th>\n",
       "      <th></th>\n",
       "      <th></th>\n",
       "      <th></th>\n",
       "    </tr>\n",
       "  </thead>\n",
       "  <tbody>\n",
       "    <tr>\n",
       "      <th>120</th>\n",
       "      <td>npc_dota_hero_pangolier</td>\n",
       "      <td>Pangolier</td>\n",
       "      <td>['Carry', 'Nuker', 'Disabler', 'Durable', 'Esc...</td>\n",
       "      <td>3.2</td>\n",
       "      <td>150</td>\n",
       "      <td>1.7</td>\n",
       "      <td>Melee</td>\n",
       "      <td>18</td>\n",
       "      <td>1.0</td>\n",
       "      <td>39</td>\n",
       "      <td>...</td>\n",
       "      <td>25</td>\n",
       "      <td>17</td>\n",
       "      <td>True</td>\n",
       "      <td>1.9</td>\n",
       "      <td>2</td>\n",
       "      <td>305</td>\n",
       "      <td>agi</td>\n",
       "      <td>900</td>\n",
       "      <td>2.5</td>\n",
       "      <td>1.0</td>\n",
       "    </tr>\n",
       "    <tr>\n",
       "      <th>7</th>\n",
       "      <td>npc_dota_hero_earthshaker</td>\n",
       "      <td>Earthshaker</td>\n",
       "      <td>['Support', 'Initiator', 'Disabler', 'Nuker']</td>\n",
       "      <td>1.4</td>\n",
       "      <td>150</td>\n",
       "      <td>1.7</td>\n",
       "      <td>Melee</td>\n",
       "      <td>12</td>\n",
       "      <td>0.0</td>\n",
       "      <td>37</td>\n",
       "      <td>...</td>\n",
       "      <td>25</td>\n",
       "      <td>22</td>\n",
       "      <td>True</td>\n",
       "      <td>1.8</td>\n",
       "      <td>2</td>\n",
       "      <td>310</td>\n",
       "      <td>str</td>\n",
       "      <td>0</td>\n",
       "      <td>3.7</td>\n",
       "      <td>0.9</td>\n",
       "    </tr>\n",
       "    <tr>\n",
       "      <th>101</th>\n",
       "      <td>npc_dota_hero_skywrath_mage</td>\n",
       "      <td>Skywrath Mage</td>\n",
       "      <td>['Support', 'Nuker', 'Disabler']</td>\n",
       "      <td>0.8</td>\n",
       "      <td>600</td>\n",
       "      <td>1.7</td>\n",
       "      <td>Ranged</td>\n",
       "      <td>13</td>\n",
       "      <td>-2.0</td>\n",
       "      <td>24</td>\n",
       "      <td>...</td>\n",
       "      <td>25</td>\n",
       "      <td>21</td>\n",
       "      <td>True</td>\n",
       "      <td>4.1</td>\n",
       "      <td>2</td>\n",
       "      <td>325</td>\n",
       "      <td>int</td>\n",
       "      <td>1000</td>\n",
       "      <td>2.0</td>\n",
       "      <td>0.5</td>\n",
       "    </tr>\n",
       "    <tr>\n",
       "      <th>111</th>\n",
       "      <td>npc_dota_hero_oracle</td>\n",
       "      <td>Oracle</td>\n",
       "      <td>['Support', 'Nuker', 'Disabler', 'Escape']</td>\n",
       "      <td>1.7</td>\n",
       "      <td>620</td>\n",
       "      <td>1.4</td>\n",
       "      <td>Ranged</td>\n",
       "      <td>15</td>\n",
       "      <td>0.0</td>\n",
       "      <td>24</td>\n",
       "      <td>...</td>\n",
       "      <td>25</td>\n",
       "      <td>20</td>\n",
       "      <td>True</td>\n",
       "      <td>4.0</td>\n",
       "      <td>2</td>\n",
       "      <td>300</td>\n",
       "      <td>int</td>\n",
       "      <td>900</td>\n",
       "      <td>2.4</td>\n",
       "      <td>0.7</td>\n",
       "    </tr>\n",
       "    <tr>\n",
       "      <th>81</th>\n",
       "      <td>npc_dota_hero_chaos_knight</td>\n",
       "      <td>Chaos Knight</td>\n",
       "      <td>['Carry', 'Disabler', 'Durable', 'Pusher', 'In...</td>\n",
       "      <td>2.1</td>\n",
       "      <td>150</td>\n",
       "      <td>1.7</td>\n",
       "      <td>Melee</td>\n",
       "      <td>14</td>\n",
       "      <td>1.0</td>\n",
       "      <td>59</td>\n",
       "      <td>...</td>\n",
       "      <td>25</td>\n",
       "      <td>22</td>\n",
       "      <td>True</td>\n",
       "      <td>1.2</td>\n",
       "      <td>2</td>\n",
       "      <td>320</td>\n",
       "      <td>str</td>\n",
       "      <td>900</td>\n",
       "      <td>3.7</td>\n",
       "      <td>0.5</td>\n",
       "    </tr>\n",
       "  </tbody>\n",
       "</table>\n",
       "<p>5 rows × 26 columns</p>\n",
       "</div>"
      ],
      "text/plain": [
       "                                name localized_name  \\\n",
       "hero_id                                               \n",
       "120          npc_dota_hero_pangolier      Pangolier   \n",
       "7          npc_dota_hero_earthshaker    Earthshaker   \n",
       "101      npc_dota_hero_skywrath_mage  Skywrath Mage   \n",
       "111             npc_dota_hero_oracle         Oracle   \n",
       "81        npc_dota_hero_chaos_knight   Chaos Knight   \n",
       "\n",
       "                                                     roles  agi_gain  \\\n",
       "hero_id                                                                \n",
       "120      ['Carry', 'Nuker', 'Disabler', 'Durable', 'Esc...       3.2   \n",
       "7            ['Support', 'Initiator', 'Disabler', 'Nuker']       1.4   \n",
       "101                       ['Support', 'Nuker', 'Disabler']       0.8   \n",
       "111             ['Support', 'Nuker', 'Disabler', 'Escape']       1.7   \n",
       "81       ['Carry', 'Disabler', 'Durable', 'Pusher', 'In...       2.1   \n",
       "\n",
       "         attack_range  attack_rate attack_type  base_agi  base_armor  \\\n",
       "hero_id                                                                \n",
       "120               150          1.7       Melee        18         1.0   \n",
       "7                 150          1.7       Melee        12         0.0   \n",
       "101               600          1.7      Ranged        13        -2.0   \n",
       "111               620          1.4      Ranged        15         0.0   \n",
       "81                150          1.7       Melee        14         1.0   \n",
       "\n",
       "         base_attack_max    ...      base_mr  base_str  cm_enabled  int_gain  \\\n",
       "hero_id                     ...                                                \n",
       "120                   39    ...           25        17        True       1.9   \n",
       "7                     37    ...           25        22        True       1.8   \n",
       "101                   24    ...           25        21        True       4.1   \n",
       "111                   24    ...           25        20        True       4.0   \n",
       "81                    59    ...           25        22        True       1.2   \n",
       "\n",
       "         legs  move_speed  primary_attr  projectile_speed  str_gain  turn_rate  \n",
       "hero_id                                                                         \n",
       "120         2         305           agi               900       2.5        1.0  \n",
       "7           2         310           str                 0       3.7        0.9  \n",
       "101         2         325           int              1000       2.0        0.5  \n",
       "111         2         300           int               900       2.4        0.7  \n",
       "81          2         320           str               900       3.7        0.5  \n",
       "\n",
       "[5 rows x 26 columns]"
      ]
     },
     "execution_count": 8,
     "metadata": {},
     "output_type": "execute_result"
    }
   ],
   "source": [
    "df_heroes.loc[record['radiant_heroes'], :]"
   ]
  },
  {
   "cell_type": "markdown",
   "metadata": {},
   "source": [
    "Герои команды **Dire**:"
   ]
  },
  {
   "cell_type": "code",
   "execution_count": 9,
   "metadata": {
    "ExecuteTime": {
     "end_time": "2019-03-08T17:10:39.774607Z",
     "start_time": "2019-03-08T17:10:39.732172Z"
    }
   },
   "outputs": [
    {
     "data": {
      "text/html": [
       "<div>\n",
       "<style scoped>\n",
       "    .dataframe tbody tr th:only-of-type {\n",
       "        vertical-align: middle;\n",
       "    }\n",
       "\n",
       "    .dataframe tbody tr th {\n",
       "        vertical-align: top;\n",
       "    }\n",
       "\n",
       "    .dataframe thead th {\n",
       "        text-align: right;\n",
       "    }\n",
       "</style>\n",
       "<table border=\"1\" class=\"dataframe\">\n",
       "  <thead>\n",
       "    <tr style=\"text-align: right;\">\n",
       "      <th></th>\n",
       "      <th>name</th>\n",
       "      <th>localized_name</th>\n",
       "      <th>roles</th>\n",
       "      <th>agi_gain</th>\n",
       "      <th>attack_range</th>\n",
       "      <th>attack_rate</th>\n",
       "      <th>attack_type</th>\n",
       "      <th>base_agi</th>\n",
       "      <th>base_armor</th>\n",
       "      <th>base_attack_max</th>\n",
       "      <th>...</th>\n",
       "      <th>base_mr</th>\n",
       "      <th>base_str</th>\n",
       "      <th>cm_enabled</th>\n",
       "      <th>int_gain</th>\n",
       "      <th>legs</th>\n",
       "      <th>move_speed</th>\n",
       "      <th>primary_attr</th>\n",
       "      <th>projectile_speed</th>\n",
       "      <th>str_gain</th>\n",
       "      <th>turn_rate</th>\n",
       "    </tr>\n",
       "    <tr>\n",
       "      <th>hero_id</th>\n",
       "      <th></th>\n",
       "      <th></th>\n",
       "      <th></th>\n",
       "      <th></th>\n",
       "      <th></th>\n",
       "      <th></th>\n",
       "      <th></th>\n",
       "      <th></th>\n",
       "      <th></th>\n",
       "      <th></th>\n",
       "      <th></th>\n",
       "      <th></th>\n",
       "      <th></th>\n",
       "      <th></th>\n",
       "      <th></th>\n",
       "      <th></th>\n",
       "      <th></th>\n",
       "      <th></th>\n",
       "      <th></th>\n",
       "      <th></th>\n",
       "      <th></th>\n",
       "    </tr>\n",
       "  </thead>\n",
       "  <tbody>\n",
       "    <tr>\n",
       "      <th>45</th>\n",
       "      <td>npc_dota_hero_pugna</td>\n",
       "      <td>Pugna</td>\n",
       "      <td>['Nuker', 'Pusher']</td>\n",
       "      <td>1.0</td>\n",
       "      <td>630</td>\n",
       "      <td>1.7</td>\n",
       "      <td>Ranged</td>\n",
       "      <td>16</td>\n",
       "      <td>0.0</td>\n",
       "      <td>27</td>\n",
       "      <td>...</td>\n",
       "      <td>25</td>\n",
       "      <td>19</td>\n",
       "      <td>True</td>\n",
       "      <td>5.2</td>\n",
       "      <td>2</td>\n",
       "      <td>330</td>\n",
       "      <td>int</td>\n",
       "      <td>900</td>\n",
       "      <td>2.0</td>\n",
       "      <td>0.5</td>\n",
       "    </tr>\n",
       "    <tr>\n",
       "      <th>62</th>\n",
       "      <td>npc_dota_hero_bounty_hunter</td>\n",
       "      <td>Bounty Hunter</td>\n",
       "      <td>['Escape', 'Nuker']</td>\n",
       "      <td>2.6</td>\n",
       "      <td>150</td>\n",
       "      <td>1.7</td>\n",
       "      <td>Melee</td>\n",
       "      <td>21</td>\n",
       "      <td>3.0</td>\n",
       "      <td>38</td>\n",
       "      <td>...</td>\n",
       "      <td>25</td>\n",
       "      <td>20</td>\n",
       "      <td>True</td>\n",
       "      <td>2.0</td>\n",
       "      <td>2</td>\n",
       "      <td>315</td>\n",
       "      <td>agi</td>\n",
       "      <td>900</td>\n",
       "      <td>2.5</td>\n",
       "      <td>0.6</td>\n",
       "    </tr>\n",
       "    <tr>\n",
       "      <th>90</th>\n",
       "      <td>npc_dota_hero_keeper_of_the_light</td>\n",
       "      <td>Keeper of the Light</td>\n",
       "      <td>['Support', 'Nuker', 'Disabler', 'Jungler']</td>\n",
       "      <td>1.6</td>\n",
       "      <td>600</td>\n",
       "      <td>1.7</td>\n",
       "      <td>Ranged</td>\n",
       "      <td>15</td>\n",
       "      <td>-1.0</td>\n",
       "      <td>27</td>\n",
       "      <td>...</td>\n",
       "      <td>25</td>\n",
       "      <td>16</td>\n",
       "      <td>True</td>\n",
       "      <td>3.2</td>\n",
       "      <td>2</td>\n",
       "      <td>330</td>\n",
       "      <td>int</td>\n",
       "      <td>900</td>\n",
       "      <td>2.3</td>\n",
       "      <td>0.5</td>\n",
       "    </tr>\n",
       "    <tr>\n",
       "      <th>129</th>\n",
       "      <td>npc_dota_hero_mars</td>\n",
       "      <td>Mars</td>\n",
       "      <td>['Carry', 'Initiator', 'Disabler', 'Durable']</td>\n",
       "      <td>1.9</td>\n",
       "      <td>250</td>\n",
       "      <td>1.8</td>\n",
       "      <td>Melee</td>\n",
       "      <td>20</td>\n",
       "      <td>0.0</td>\n",
       "      <td>43</td>\n",
       "      <td>...</td>\n",
       "      <td>25</td>\n",
       "      <td>23</td>\n",
       "      <td>False</td>\n",
       "      <td>1.4</td>\n",
       "      <td>2</td>\n",
       "      <td>310</td>\n",
       "      <td>str</td>\n",
       "      <td>900</td>\n",
       "      <td>3.6</td>\n",
       "      <td>0.8</td>\n",
       "    </tr>\n",
       "    <tr>\n",
       "      <th>53</th>\n",
       "      <td>npc_dota_hero_furion</td>\n",
       "      <td>Nature's Prophet</td>\n",
       "      <td>['Carry', 'Jungler', 'Pusher', 'Escape', 'Nuker']</td>\n",
       "      <td>3.3</td>\n",
       "      <td>600</td>\n",
       "      <td>1.7</td>\n",
       "      <td>Ranged</td>\n",
       "      <td>18</td>\n",
       "      <td>2.0</td>\n",
       "      <td>43</td>\n",
       "      <td>...</td>\n",
       "      <td>25</td>\n",
       "      <td>21</td>\n",
       "      <td>True</td>\n",
       "      <td>3.3</td>\n",
       "      <td>2</td>\n",
       "      <td>290</td>\n",
       "      <td>int</td>\n",
       "      <td>1125</td>\n",
       "      <td>2.6</td>\n",
       "      <td>0.6</td>\n",
       "    </tr>\n",
       "  </tbody>\n",
       "</table>\n",
       "<p>5 rows × 26 columns</p>\n",
       "</div>"
      ],
      "text/plain": [
       "                                      name       localized_name  \\\n",
       "hero_id                                                           \n",
       "45                     npc_dota_hero_pugna                Pugna   \n",
       "62             npc_dota_hero_bounty_hunter        Bounty Hunter   \n",
       "90       npc_dota_hero_keeper_of_the_light  Keeper of the Light   \n",
       "129                     npc_dota_hero_mars                 Mars   \n",
       "53                    npc_dota_hero_furion     Nature's Prophet   \n",
       "\n",
       "                                                     roles  agi_gain  \\\n",
       "hero_id                                                                \n",
       "45                                     ['Nuker', 'Pusher']       1.0   \n",
       "62                                     ['Escape', 'Nuker']       2.6   \n",
       "90             ['Support', 'Nuker', 'Disabler', 'Jungler']       1.6   \n",
       "129          ['Carry', 'Initiator', 'Disabler', 'Durable']       1.9   \n",
       "53       ['Carry', 'Jungler', 'Pusher', 'Escape', 'Nuker']       3.3   \n",
       "\n",
       "         attack_range  attack_rate attack_type  base_agi  base_armor  \\\n",
       "hero_id                                                                \n",
       "45                630          1.7      Ranged        16         0.0   \n",
       "62                150          1.7       Melee        21         3.0   \n",
       "90                600          1.7      Ranged        15        -1.0   \n",
       "129               250          1.8       Melee        20         0.0   \n",
       "53                600          1.7      Ranged        18         2.0   \n",
       "\n",
       "         base_attack_max    ...      base_mr  base_str  cm_enabled  int_gain  \\\n",
       "hero_id                     ...                                                \n",
       "45                    27    ...           25        19        True       5.2   \n",
       "62                    38    ...           25        20        True       2.0   \n",
       "90                    27    ...           25        16        True       3.2   \n",
       "129                   43    ...           25        23       False       1.4   \n",
       "53                    43    ...           25        21        True       3.3   \n",
       "\n",
       "         legs  move_speed  primary_attr  projectile_speed  str_gain  turn_rate  \n",
       "hero_id                                                                         \n",
       "45          2         330           int               900       2.0        0.5  \n",
       "62          2         315           agi               900       2.5        0.6  \n",
       "90          2         330           int               900       2.3        0.5  \n",
       "129         2         310           str               900       3.6        0.8  \n",
       "53          2         290           int              1125       2.6        0.6  \n",
       "\n",
       "[5 rows x 26 columns]"
      ]
     },
     "execution_count": 9,
     "metadata": {},
     "output_type": "execute_result"
    }
   ],
   "source": [
    "df_heroes.loc[record['dire_heroes'], :]"
   ]
  },
  {
   "cell_type": "markdown",
   "metadata": {},
   "source": [
    "## Решение 1: \"Заглушка\""
   ]
  },
  {
   "cell_type": "markdown",
   "metadata": {},
   "source": [
    "В обучающей выборке больше неопытных игроков, чем опытных:"
   ]
  },
  {
   "cell_type": "code",
   "execution_count": 5,
   "metadata": {
    "ExecuteTime": {
     "end_time": "2019-03-08T17:10:39.791844Z",
     "start_time": "2019-03-08T17:10:39.778677Z"
    }
   },
   "outputs": [
    {
     "data": {
      "text/plain": [
       "0    60085\n",
       "1    39786\n",
       "Name: skilled, dtype: int64"
      ]
     },
     "execution_count": 5,
     "metadata": {},
     "output_type": "execute_result"
    }
   ],
   "source": [
    "df_train['skilled'].value_counts()"
   ]
  },
  {
   "cell_type": "markdown",
   "metadata": {},
   "source": [
    "В случае, если мы не имеем никакой информации об игроке, имеет смысл предсказывать что он _неопытный_. Основываясь на этом принципе, можем построить первое решение: для всех тестовых примеров определять игрока как _неопытного_.\n",
    "\n",
    "Оценим точность такого предсказания на обучающей выборке (доля угаданных значений целевой переменной): "
   ]
  },
  {
   "cell_type": "code",
   "execution_count": 6,
   "metadata": {
    "ExecuteTime": {
     "end_time": "2019-03-08T17:10:39.809915Z",
     "start_time": "2019-03-08T17:10:39.799940Z"
    }
   },
   "outputs": [
    {
     "name": "stdout",
     "output_type": "stream",
     "text": [
      "Train accuracy: 0.6016260976659892\n"
     ]
    }
   ],
   "source": [
    "dummy_accuracy = (df_train['skilled'] == 0).mean()\n",
    "print('Train accuracy:', dummy_accuracy)"
   ]
  },
  {
   "cell_type": "markdown",
   "metadata": {},
   "source": [
    "Запишем предсказания в CSV-файл `sample_submission.csv`:"
   ]
  },
  {
   "cell_type": "code",
   "execution_count": 7,
   "metadata": {
    "ExecuteTime": {
     "end_time": "2019-03-08T17:10:39.951282Z",
     "start_time": "2019-03-08T17:10:39.813223Z"
    }
   },
   "outputs": [
    {
     "data": {
      "text/html": [
       "<div>\n",
       "<style scoped>\n",
       "    .dataframe tbody tr th:only-of-type {\n",
       "        vertical-align: middle;\n",
       "    }\n",
       "\n",
       "    .dataframe tbody tr th {\n",
       "        vertical-align: top;\n",
       "    }\n",
       "\n",
       "    .dataframe thead th {\n",
       "        text-align: right;\n",
       "    }\n",
       "</style>\n",
       "<table border=\"1\" class=\"dataframe\">\n",
       "  <thead>\n",
       "    <tr style=\"text-align: right;\">\n",
       "      <th></th>\n",
       "      <th>skilled</th>\n",
       "    </tr>\n",
       "    <tr>\n",
       "      <th>id</th>\n",
       "      <th></th>\n",
       "    </tr>\n",
       "  </thead>\n",
       "  <tbody>\n",
       "    <tr>\n",
       "      <td>0</td>\n",
       "      <td>0</td>\n",
       "    </tr>\n",
       "    <tr>\n",
       "      <td>1</td>\n",
       "      <td>0</td>\n",
       "    </tr>\n",
       "    <tr>\n",
       "      <td>4</td>\n",
       "      <td>0</td>\n",
       "    </tr>\n",
       "    <tr>\n",
       "      <td>5</td>\n",
       "      <td>0</td>\n",
       "    </tr>\n",
       "    <tr>\n",
       "      <td>9</td>\n",
       "      <td>0</td>\n",
       "    </tr>\n",
       "  </tbody>\n",
       "</table>\n",
       "</div>"
      ],
      "text/plain": [
       "    skilled\n",
       "id         \n",
       "0         0\n",
       "1         0\n",
       "4         0\n",
       "5         0\n",
       "9         0"
      ]
     },
     "execution_count": 7,
     "metadata": {},
     "output_type": "execute_result"
    }
   ],
   "source": [
    "df_submission_dummy = pandas.DataFrame({'skilled': 0}, index=df_test.index)\n",
    "df_submission_dummy.to_csv('sample_submission.csv')\n",
    "df_submission_dummy.head()"
   ]
  },
  {
   "cell_type": "markdown",
   "metadata": {},
   "source": [
    "Эти предсказания можно отправлять в проверяющую систему."
   ]
  },
  {
   "cell_type": "markdown",
   "metadata": {},
   "source": [
    "## Решение 2: Находим закономерность\n",
    "\n",
    "Если посмотреть на распределения различных переменных по опытным и неопытным игрокам, то можно обнаружить, что игроки с достаточно высоким `avg_gpm_x16` как правило опытные:"
   ]
  },
  {
   "cell_type": "code",
   "execution_count": 9,
   "metadata": {
    "ExecuteTime": {
     "end_time": "2019-03-08T17:10:40.909281Z",
     "start_time": "2019-03-08T17:10:39.954330Z"
    }
   },
   "outputs": [
    {
     "data": {
      "image/png": "[encoded data removed]",
      "text/plain": [
       "<Figure size 864x288 with 1 Axes>"
      ]
     },
     "metadata": {
      "needs_background": "light"
     },
     "output_type": "display_data"
    }
   ],
   "source": [
    "selected_column = 'avg_gpm_x16'\n",
    "threshold = 530\n",
    "\n",
    "figure(figsize=(12, 4))\n",
    "df_train.loc[df_train.skilled == 1, selected_column].hist(bins=100, alpha=0.5)\n",
    "df_train.loc[df_train.skilled == 0, selected_column].hist(bins=100, alpha=0.5)\n",
    "legend(['skilled', 'not skilled'])\n",
    "plot([threshold, threshold], [0, 1000])\n",
    "_ = title('Histogram of {}'.format(selected_column))"
   ]
  },
  {
   "cell_type": "markdown",
   "metadata": {},
   "source": [
    "Используя это наблюдения, можно построить более точное решение:\n",
    "- если `avg_gpm_x16 > 530` => вероятно игрок опытный, предсказываем `skilled=1`\n",
    "- иначе => скорее всего неопытный, предсказываем `skilled=0`\n",
    "\n",
    "Используя этот алгоритм, построим предсказания для обучающей и тестовой выборок:"
   ]
  },
  {
   "cell_type": "code",
   "execution_count": 10,
   "metadata": {
    "ExecuteTime": {
     "end_time": "2019-03-08T17:10:40.929118Z",
     "start_time": "2019-03-08T17:10:40.915897Z"
    }
   },
   "outputs": [],
   "source": [
    "skilled_train_pred = (df_train[selected_column] > threshold).astype(int)\n",
    "skilled_test_pred = (df_test[selected_column] > threshold).astype(int)"
   ]
  },
  {
   "cell_type": "markdown",
   "metadata": {},
   "source": [
    "Оценим качество получившегося решения (долю примеров с правильно угаданным `skilled`) на обучающей выборке:"
   ]
  },
  {
   "cell_type": "code",
   "execution_count": 11,
   "metadata": {
    "ExecuteTime": {
     "end_time": "2019-03-08T17:10:40.954474Z",
     "start_time": "2019-03-08T17:10:40.935437Z"
    }
   },
   "outputs": [
    {
     "name": "stdout",
     "output_type": "stream",
     "text": [
      "Train accuracy: 0.6377927526509197\n"
     ]
    }
   ],
   "source": [
    "print('Train accuracy:', (skilled_train_pred == df_train['skilled']).mean())"
   ]
  },
  {
   "cell_type": "markdown",
   "metadata": {},
   "source": [
    "Доля правильных предсказаний существенно выше чем в решении-\"заглушке\". Сохраним предсказания в CSV-файл, который можно отправлять в систему:"
   ]
  },
  {
   "cell_type": "code",
   "execution_count": 12,
   "metadata": {
    "ExecuteTime": {
     "end_time": "2019-03-08T17:10:41.125831Z",
     "start_time": "2019-03-08T17:10:40.957355Z"
    }
   },
   "outputs": [
    {
     "data": {
      "text/html": [
       "<div>\n",
       "<style scoped>\n",
       "    .dataframe tbody tr th:only-of-type {\n",
       "        vertical-align: middle;\n",
       "    }\n",
       "\n",
       "    .dataframe tbody tr th {\n",
       "        vertical-align: top;\n",
       "    }\n",
       "\n",
       "    .dataframe thead th {\n",
       "        text-align: right;\n",
       "    }\n",
       "</style>\n",
       "<table border=\"1\" class=\"dataframe\">\n",
       "  <thead>\n",
       "    <tr style=\"text-align: right;\">\n",
       "      <th></th>\n",
       "      <th>skilled</th>\n",
       "    </tr>\n",
       "    <tr>\n",
       "      <th>id</th>\n",
       "      <th></th>\n",
       "    </tr>\n",
       "  </thead>\n",
       "  <tbody>\n",
       "    <tr>\n",
       "      <td>193369</td>\n",
       "      <td>1</td>\n",
       "    </tr>\n",
       "    <tr>\n",
       "      <td>193372</td>\n",
       "      <td>0</td>\n",
       "    </tr>\n",
       "    <tr>\n",
       "      <td>193375</td>\n",
       "      <td>0</td>\n",
       "    </tr>\n",
       "    <tr>\n",
       "      <td>193389</td>\n",
       "      <td>0</td>\n",
       "    </tr>\n",
       "    <tr>\n",
       "      <td>193391</td>\n",
       "      <td>0</td>\n",
       "    </tr>\n",
       "    <tr>\n",
       "      <td>193392</td>\n",
       "      <td>0</td>\n",
       "    </tr>\n",
       "    <tr>\n",
       "      <td>193393</td>\n",
       "      <td>0</td>\n",
       "    </tr>\n",
       "    <tr>\n",
       "      <td>193402</td>\n",
       "      <td>0</td>\n",
       "    </tr>\n",
       "    <tr>\n",
       "      <td>193410</td>\n",
       "      <td>1</td>\n",
       "    </tr>\n",
       "    <tr>\n",
       "      <td>193411</td>\n",
       "      <td>0</td>\n",
       "    </tr>\n",
       "  </tbody>\n",
       "</table>\n",
       "</div>"
      ],
      "text/plain": [
       "        skilled\n",
       "id             \n",
       "193369        1\n",
       "193372        0\n",
       "193375        0\n",
       "193389        0\n",
       "193391        0\n",
       "193392        0\n",
       "193393        0\n",
       "193402        0\n",
       "193410        1\n",
       "193411        0"
      ]
     },
     "execution_count": 12,
     "metadata": {},
     "output_type": "execute_result"
    }
   ],
   "source": [
    "df_submission_rule = pandas.DataFrame({'skilled': skilled_test_pred})\n",
    "df_submission_rule.to_csv('submission_rule.csv')\n",
    "df_submission_rule.tail(10)"
   ]
  },
  {
   "cell_type": "markdown",
   "metadata": {},
   "source": [
    "## Решение 3: Дерево решений"
   ]
  },
  {
   "cell_type": "markdown",
   "metadata": {},
   "source": [
    "Dummy-решение с константным ответом и решение на основе одного признака получились лучше, чем случайное решение, но можно двигаться дальше. Одним из простых алгоритмов машинного обучения дерево решений. Основная идея в разделении объектов выборки на основе простых правил так, чтобы каждой группе сопоставить некоторый ответ."
   ]
  },
  {
   "cell_type": "markdown",
   "metadata": {},
   "source": [
    "#### Матрица объект-признак\n",
    "\n",
    "Исключим из обучающей выборки целевую переменную и два строковых признака."
   ]
  },
  {
   "cell_type": "code",
   "execution_count": 13,
   "metadata": {
    "ExecuteTime": {
     "end_time": "2019-03-08T17:10:41.224623Z",
     "start_time": "2019-03-08T17:10:41.130575Z"
    }
   },
   "outputs": [],
   "source": [
    "X = df_train.drop(columns=['skilled', 'player_team', 'winner_team'])\n",
    "X_test = df_test.drop(columns=['player_team', 'winner_team'])\n",
    "y = df_train['skilled']"
   ]
  },
  {
   "cell_type": "markdown",
   "metadata": {},
   "source": [
    "#### Построение решающего дерева\n",
    "\n",
    "Обучением решающее дерево глубины 4. На визуализации можно увидеть, какие правила для разделения выборки были получены."
   ]
  },
  {
   "cell_type": "code",
   "execution_count": 14,
   "metadata": {
    "ExecuteTime": {
     "end_time": "2019-03-08T17:10:43.886458Z",
     "start_time": "2019-03-08T17:10:41.236995Z"
    }
   },
   "outputs": [],
   "source": [
    "from sklearn.tree import DecisionTreeClassifier\n",
    "\n",
    "tree_classifier = DecisionTreeClassifier(max_depth=4).fit(X, y)"
   ]
  },
  {
   "cell_type": "code",
   "execution_count": 15,
   "metadata": {
    "ExecuteTime": {
     "end_time": "2019-03-08T17:10:44.549919Z",
     "start_time": "2019-03-08T17:10:43.889908Z"
    }
   },
   "outputs": [
    {
     "data": {
      "image/png": "[encoded data removed]",
      "text/plain": [
       "<IPython.core.display.Image object>"
      ]
     },
     "execution_count": 15,
     "metadata": {},
     "output_type": "execute_result"
    }
   ],
   "source": [
    "from sklearn.tree import export_graphviz\n",
    "export_graphviz(\n",
    "    tree_classifier,\n",
    "    out_file='skill_tree.dot',\n",
    "    feature_names=X.columns,\n",
    "    filled=True,\n",
    "    proportion=True,\n",
    "    rounded=True,\n",
    "    impurity=False,\n",
    ")\n",
    "!dot -Tpng skill_tree.dot -o skill_tree.png\n",
    "\n",
    "from IPython.display import Image\n",
    "Image('skill_tree.png')"
   ]
  },
  {
   "cell_type": "markdown",
   "metadata": {},
   "source": [
    "#### Предсказания на тестовой выборке"
   ]
  },
  {
   "cell_type": "markdown",
   "metadata": {},
   "source": [
    "Сделаем предсказание деревом решений на тестовой выборке и сохраним предсказания в файл."
   ]
  },
  {
   "cell_type": "code",
   "execution_count": 16,
   "metadata": {
    "ExecuteTime": {
     "end_time": "2019-03-08T17:10:44.747405Z",
     "start_time": "2019-03-08T17:10:44.552600Z"
    }
   },
   "outputs": [
    {
     "data": {
      "text/html": [
       "<div>\n",
       "<style scoped>\n",
       "    .dataframe tbody tr th:only-of-type {\n",
       "        vertical-align: middle;\n",
       "    }\n",
       "\n",
       "    .dataframe tbody tr th {\n",
       "        vertical-align: top;\n",
       "    }\n",
       "\n",
       "    .dataframe thead th {\n",
       "        text-align: right;\n",
       "    }\n",
       "</style>\n",
       "<table border=\"1\" class=\"dataframe\">\n",
       "  <thead>\n",
       "    <tr style=\"text-align: right;\">\n",
       "      <th></th>\n",
       "      <th>skilled</th>\n",
       "    </tr>\n",
       "    <tr>\n",
       "      <th>id</th>\n",
       "      <th></th>\n",
       "    </tr>\n",
       "  </thead>\n",
       "  <tbody>\n",
       "    <tr>\n",
       "      <td>193392</td>\n",
       "      <td>0</td>\n",
       "    </tr>\n",
       "    <tr>\n",
       "      <td>193393</td>\n",
       "      <td>0</td>\n",
       "    </tr>\n",
       "    <tr>\n",
       "      <td>193402</td>\n",
       "      <td>0</td>\n",
       "    </tr>\n",
       "    <tr>\n",
       "      <td>193410</td>\n",
       "      <td>0</td>\n",
       "    </tr>\n",
       "    <tr>\n",
       "      <td>193411</td>\n",
       "      <td>0</td>\n",
       "    </tr>\n",
       "  </tbody>\n",
       "</table>\n",
       "</div>"
      ],
      "text/plain": [
       "        skilled\n",
       "id             \n",
       "193392        0\n",
       "193393        0\n",
       "193402        0\n",
       "193410        0\n",
       "193411        0"
      ]
     },
     "execution_count": 16,
     "metadata": {},
     "output_type": "execute_result"
    }
   ],
   "source": [
    "y_pred = tree_classifier.predict(X_test)\n",
    "df_submission_tree = pandas.DataFrame({'skilled': y_pred}, index=df_test.index)\n",
    "df_submission_tree.to_csv('submission_tree.csv')\n",
    "df_submission_tree.tail()"
   ]
  },
  {
   "cell_type": "markdown",
   "metadata": {},
   "source": [
    "#### Оценка качества на обучающей выборке"
   ]
  },
  {
   "cell_type": "code",
   "execution_count": 17,
   "metadata": {
    "ExecuteTime": {
     "end_time": "2019-03-08T17:10:44.833673Z",
     "start_time": "2019-03-08T17:10:44.751404Z"
    }
   },
   "outputs": [
    {
     "name": "stdout",
     "output_type": "stream",
     "text": [
      "Train accuracy: 0.659701014308458\n"
     ]
    }
   ],
   "source": [
    "from sklearn.metrics import accuracy_score\n",
    "\n",
    "print('Train accuracy:', accuracy_score(y, tree_classifier.predict(X)))"
   ]
  },
  {
   "cell_type": "markdown",
   "metadata": {},
   "source": [
    "#### Оценка качества методом кросс-валидации\n",
    "\n",
    "Оценка качества модели на обучающей выборке некорректна, так как мы оцениваем качество алгоритма, который видел правильные ответы (и мог их запомнить). Для избежения этого используют кросс-валидацию, то есть оценивают качество алгоритма на частях обучающей выборки, которую не видел алгоритм при обучении."
   ]
  },
  {
   "cell_type": "code",
   "execution_count": 18,
   "metadata": {
    "ExecuteTime": {
     "end_time": "2019-03-08T17:10:50.982020Z",
     "start_time": "2019-03-08T17:10:44.836569Z"
    }
   },
   "outputs": [
    {
     "name": "stdout",
     "output_type": "stream",
     "text": [
      "Validation accuracy: 0.6575282113926966\n"
     ]
    }
   ],
   "source": [
    "from sklearn.model_selection import cross_val_predict\n",
    "\n",
    "y_pred = cross_val_predict(\n",
    "    DecisionTreeClassifier(max_depth=4),\n",
    "    X, y,\n",
    "    cv=5,\n",
    "    n_jobs=-1,\n",
    ")\n",
    "\n",
    "print('Validation accuracy:', accuracy_score(df_train['skilled'], y_pred))"
   ]
  },
  {
   "cell_type": "markdown",
   "metadata": {},
   "source": [
    "## Идеи по дальнейшему улучшению точности решения"
   ]
  },
  {
   "cell_type": "markdown",
   "metadata": {},
   "source": [
    "### Подбор параметров модели\n",
    "\n",
    "Для получения более высокого качества часто необходимо подобрать значения параметров алгоритма. Например, у решающего дерева есть параметр глубина дерева `max_depth`. Увеличим значение с 4 до 8. "
   ]
  },
  {
   "cell_type": "code",
   "execution_count": 19,
   "metadata": {
    "ExecuteTime": {
     "end_time": "2019-03-08T17:10:57.423982Z",
     "start_time": "2019-03-08T17:10:50.985775Z"
    }
   },
   "outputs": [
    {
     "name": "stdout",
     "output_type": "stream",
     "text": [
      "Validation accuracy: 0.6729681288862632\n"
     ]
    }
   ],
   "source": [
    "from sklearn.model_selection import cross_val_predict\n",
    "\n",
    "y_pred = cross_val_predict(\n",
    "    DecisionTreeClassifier(max_depth=8),\n",
    "    X, y,\n",
    "    cv=5,\n",
    "    n_jobs=-1,\n",
    ")\n",
    "\n",
    "print('Validation accuracy:', accuracy_score(df_train['skilled'], y_pred))"
   ]
  },
  {
   "cell_type": "markdown",
   "metadata": {},
   "source": [
    "Качество алгоритма выросло!"
   ]
  },
  {
   "cell_type": "markdown",
   "metadata": {},
   "source": [
    "### Использование различных алгоритмов машинного обучения\n",
    "\n",
    "Решающие деревья — один из методов машинного обучения, есть много других алгоритмов, которые при правильном использовании могут дать лучший результат. Воспользуемся, например, случайным лесом — множеством решающих деревьев, ответы которых усредняются."
   ]
  },
  {
   "cell_type": "code",
   "execution_count": 20,
   "metadata": {
    "ExecuteTime": {
     "end_time": "2019-03-08T17:13:07.143663Z",
     "start_time": "2019-03-08T17:10:57.427369Z"
    }
   },
   "outputs": [
    {
     "name": "stdout",
     "output_type": "stream",
     "text": [
      "Validation accuracy: 0.7159135284517028\n"
     ]
    }
   ],
   "source": [
    "from sklearn.ensemble import RandomForestClassifier\n",
    "\n",
    "y_pred = cross_val_predict(\n",
    "    RandomForestClassifier(n_estimators=100),\n",
    "    X, y,\n",
    "    cv=5,\n",
    "    n_jobs=-1,\n",
    ")\n",
    "\n",
    "print('Validation accuracy:', accuracy_score(df_train['skilled'], y_pred))"
   ]
  },
  {
   "cell_type": "markdown",
   "metadata": {},
   "source": [
    "### Использование категориальных признаков\n",
    "\n",
    "В нашей выборке есть числовые признаки, которые по смыслу означают категории. Например, герой, за которого играл человек. Посмотрим на различия в `avg_gpm_x16` у двух типов героев. "
   ]
  },
  {
   "cell_type": "code",
   "execution_count": 21,
   "metadata": {
    "ExecuteTime": {
     "end_time": "2019-03-08T17:13:08.004200Z",
     "start_time": "2019-03-08T17:13:07.147255Z"
    }
   },
   "outputs": [
    {
     "data": {
      "image/png": "[encoded data removed]",
      "text/plain": [
       "<Figure size 864x576 with 2 Axes>"
      ]
     },
     "metadata": {
      "needs_background": "light"
     },
     "output_type": "display_data"
    }
   ],
   "source": [
    "selected_heroes = [(8, 'Juggernaut'), (74, 'Invoker')]\n",
    "\n",
    "figure(figsize=(12, 8))\n",
    "for i, (selected_hero, hero_name) in enumerate(selected_heroes):\n",
    "    subplot(len(selected_heroes), 1, i+1)\n",
    "    df_train.loc[(df_train.skilled == 1) & (df_train.hero_id == selected_hero), selected_column].hist(bins=50, alpha=0.5)\n",
    "    df_train.loc[(df_train.skilled == 0) & (df_train.hero_id == selected_hero), selected_column].hist(bins=50, alpha=0.5)\n",
    "    xlim([300, 700])\n",
    "    legend(['skilled', 'not skilled'])\n",
    "    title(hero_name)"
   ]
  },
  {
   "cell_type": "markdown",
   "metadata": {},
   "source": [
    "Большинство алгоритмов машинного обучения не понимает, что признак по смыслу категориальный, а считает его числом. Поэтому попробуем добавить признаки `играл за героя X` для всех возможных героев."
   ]
  },
  {
   "cell_type": "code",
   "execution_count": 22,
   "metadata": {
    "ExecuteTime": {
     "end_time": "2019-03-08T17:14:48.705283Z",
     "start_time": "2019-03-08T17:13:08.008052Z"
    }
   },
   "outputs": [
    {
     "name": "stdout",
     "output_type": "stream",
     "text": [
      "Validation accuracy: 0.7172252205344894\n"
     ]
    }
   ],
   "source": [
    "for hero_id in set(df_train.hero_id):\n",
    "    df_train['is_hero_{}'.format(hero_id)] = df_train.hero_id == hero_id\n",
    "    df_test['is_hero_{}'.format(hero_id)] = df_test.hero_id == hero_id\n",
    "\n",
    "X = df_train.drop(columns=['skilled', 'player_team', 'winner_team'])\n",
    "X_test = df_test.drop(columns=['player_team', 'winner_team'])\n",
    "y = df_train['skilled']\n",
    "\n",
    "y_pred = cross_val_predict(\n",
    "    RandomForestClassifier(n_estimators=100),\n",
    "    X, y,\n",
    "    cv=5,\n",
    "    n_jobs=-1,\n",
    ")\n",
    "\n",
    "print('Validation accuracy:', accuracy_score(df_train['skilled'], y_pred))"
   ]
  },
  {
   "cell_type": "markdown",
   "metadata": {},
   "source": [
    "### Использование расширенного набора данных, создание новых признаков"
   ]
  },
  {
   "cell_type": "markdown",
   "metadata": {},
   "source": [
    "Как уже говорилось, есть дополнительная информация о героях, умениях и предметах. Можно сгенерировать новые признаки на их основе. \n",
    "\n",
    "Посчитаем, каких типов умения применялись игроков и в каком количестве. Для этого нужно воспользовать большой версией данных (это займёт некоторое время)."
   ]
  },
  {
   "cell_type": "code",
   "execution_count": 27,
   "metadata": {
    "ExecuteTime": {
     "end_time": "2019-03-08T17:14:48.743507Z",
     "start_time": "2019-03-08T17:14:48.708889Z"
    }
   },
   "outputs": [
    {
     "data": {
      "text/html": [
       "<div>\n",
       "<style scoped>\n",
       "    .dataframe tbody tr th:only-of-type {\n",
       "        vertical-align: middle;\n",
       "    }\n",
       "\n",
       "    .dataframe tbody tr th {\n",
       "        vertical-align: top;\n",
       "    }\n",
       "\n",
       "    .dataframe thead th {\n",
       "        text-align: right;\n",
       "    }\n",
       "</style>\n",
       "<table border=\"1\" class=\"dataframe\">\n",
       "  <thead>\n",
       "    <tr style=\"text-align: right;\">\n",
       "      <th></th>\n",
       "      <th>dname</th>\n",
       "      <th>behavior</th>\n",
       "      <th>desc</th>\n",
       "    </tr>\n",
       "    <tr>\n",
       "      <th>ability_id</th>\n",
       "      <th></th>\n",
       "      <th></th>\n",
       "      <th></th>\n",
       "    </tr>\n",
       "  </thead>\n",
       "  <tbody>\n",
       "    <tr>\n",
       "      <th>5003</th>\n",
       "      <td>antimage_mana_break</td>\n",
       "      <td>Passive</td>\n",
       "      <td>Burns an opponent's mana on each attack.  Mana...</td>\n",
       "    </tr>\n",
       "    <tr>\n",
       "      <th>5004</th>\n",
       "      <td>antimage_blink</td>\n",
       "      <td>Point Target</td>\n",
       "      <td>Short distance teleportation that allows Anti-...</td>\n",
       "    </tr>\n",
       "    <tr>\n",
       "      <th>5005</th>\n",
       "      <td>antimage_spell_shield</td>\n",
       "      <td>Passive</td>\n",
       "      <td>Increases Anti-Mage's resistance to magic dama...</td>\n",
       "    </tr>\n",
       "    <tr>\n",
       "      <th>7314</th>\n",
       "      <td>antimage_counterspell</td>\n",
       "      <td>No Target</td>\n",
       "      <td>Passively grants you magic resistance. Can be ...</td>\n",
       "    </tr>\n",
       "    <tr>\n",
       "      <th>5006</th>\n",
       "      <td>antimage_mana_void</td>\n",
       "      <td>Unit Target</td>\n",
       "      <td>For each point of mana missing by the target u...</td>\n",
       "    </tr>\n",
       "  </tbody>\n",
       "</table>\n",
       "</div>"
      ],
      "text/plain": [
       "                            dname      behavior  \\\n",
       "ability_id                                        \n",
       "5003          antimage_mana_break       Passive   \n",
       "5004               antimage_blink  Point Target   \n",
       "5005        antimage_spell_shield       Passive   \n",
       "7314        antimage_counterspell     No Target   \n",
       "5006           antimage_mana_void   Unit Target   \n",
       "\n",
       "                                                         desc  \n",
       "ability_id                                                     \n",
       "5003        Burns an opponent's mana on each attack.  Mana...  \n",
       "5004        Short distance teleportation that allows Anti-...  \n",
       "5005        Increases Anti-Mage's resistance to magic dama...  \n",
       "7314        Passively grants you magic resistance. Can be ...  \n",
       "5006        For each point of mana missing by the target u...  "
      ]
     },
     "execution_count": 27,
     "metadata": {},
     "output_type": "execute_result"
    }
   ],
   "source": [
    "df_abilities = pandas.read_csv('data/dota2_abilities.csv', index_col='ability_id')\n",
    "df_abilities.behavior = df_abilities.behavior.apply(\n",
    "    lambda x: x.split(\"'\")).apply(lambda x: x[1] if len(x) > 1 else 'empty')\n",
    "df_abilities.head()"
   ]
  },
  {
   "cell_type": "code",
   "execution_count": 28,
   "metadata": {
    "ExecuteTime": {
     "end_time": "2019-03-08T17:49:19.028519Z",
     "start_time": "2019-03-08T17:14:48.747066Z"
    }
   },
   "outputs": [
    {
     "data": {
      "application/vnd.jupyter.widget-view+json": {
       "model_id": "e2614145bdab45b7b441011d50d2c245",
       "version_major": 2,
       "version_minor": 0
      },
      "text/plain": [
       "HBox(children=(IntProgress(value=1, bar_style='info', max=1), HTML(value='')))"
      ]
     },
     "metadata": {},
     "output_type": "display_data"
    },
    {
     "name": "stdout",
     "output_type": "stream",
     "text": [
      "\n"
     ]
    },
    {
     "data": {
      "application/vnd.jupyter.widget-view+json": {
       "model_id": "58d90912972545ad98f8fc7461487d35",
       "version_major": 2,
       "version_minor": 0
      },
      "text/plain": [
       "HBox(children=(IntProgress(value=1, bar_style='info', max=1), HTML(value='')))"
      ]
     },
     "metadata": {},
     "output_type": "display_data"
    },
    {
     "name": "stdout",
     "output_type": "stream",
     "text": [
      "\n"
     ]
    }
   ],
   "source": [
    "import tqdm\n",
    "\n",
    "for ability_behavior in set(df_abilities.behavior.fillna('empty')):\n",
    "    df_train['upgrade_behavior {}'.format(ability_behavior)] = 0\n",
    "    df_test['upgrade_behavior {}'.format(ability_behavior)] = 0\n",
    "    \n",
    "with open('data/dota2_skill_train.jsonlines') as fin:\n",
    "    for line in tqdm.tqdm_notebook(fin):\n",
    "        record = json.loads(line)\n",
    "        for ability_upgrade in record['ability_upgrades']:\n",
    "            df_train.loc[record['id'], 'upgrade_behavior {}'.format(\n",
    "                df_abilities.loc[ability_upgrade, 'behavior'])] += 1\n",
    "            \n",
    "with open('data/dota2_skill_test.jsonlines') as fin:\n",
    "    for line in tqdm.tqdm_notebook(fin):\n",
    "        record = json.loads(line)\n",
    "        for ability_upgrade in record['ability_upgrades']:\n",
    "            df_test.loc[record['id'], 'upgrade_behavior {}'.format(\n",
    "                df_abilities.loc[ability_upgrade, 'behavior'])] += 1"
   ]
  },
  {
   "cell_type": "code",
   "execution_count": 29,
   "metadata": {
    "ExecuteTime": {
     "end_time": "2019-03-08T17:50:56.812568Z",
     "start_time": "2019-03-08T17:49:19.031044Z"
    }
   },
   "outputs": [
    {
     "name": "stdout",
     "output_type": "stream",
     "text": [
      "Validation accuracy: 0.7206296121997376\n"
     ]
    }
   ],
   "source": [
    "X = df_train.drop(columns=['skilled', 'player_team', 'winner_team'])\n",
    "X_test = df_test.drop(columns=['player_team', 'winner_team'])\n",
    "y = df_train['skilled']\n",
    "\n",
    "y_pred = cross_val_predict(\n",
    "    RandomForestClassifier(n_estimators=100),\n",
    "    X, y,\n",
    "    cv=5,\n",
    "    n_jobs=-1,\n",
    ")\n",
    "\n",
    "print('Validation accuracy:', accuracy_score(df_train['skilled'], y_pred))"
   ]
  },
  {
   "cell_type": "markdown",
   "metadata": {},
   "source": [
    "### Ансамблирование моделей"
   ]
  },
  {
   "cell_type": "markdown",
   "metadata": {},
   "source": [
    "Один алгоритм хорошо, а несколько могут решить задачу лучше (там, где один не уверен, другой может дать правильный ответ). Возьмём к случайному лесу градиентный бустинг (ещё один алгоритм на основе решающих деревьев), предскажем с помощью них степень уверенности в `1` (вероятность того, что игрок `skilled`). Усредним их и переведём в предсказание классов."
   ]
  },
  {
   "cell_type": "code",
   "execution_count": 30,
   "metadata": {
    "ExecuteTime": {
     "end_time": "2019-03-08T17:50:56.822006Z",
     "start_time": "2019-03-08T17:50:56.816836Z"
    }
   },
   "outputs": [],
   "source": [
    "from sklearn.ensemble import GradientBoostingClassifier"
   ]
  },
  {
   "cell_type": "code",
   "execution_count": 31,
   "metadata": {
    "ExecuteTime": {
     "end_time": "2019-03-08T17:56:03.940993Z",
     "start_time": "2019-03-08T17:50:56.825885Z"
    }
   },
   "outputs": [
    {
     "name": "stdout",
     "output_type": "stream",
     "text": [
      "Validation accuracy RF: 0.7197084238667881\n",
      "Validation accuracy GB: 0.7159135284517028\n",
      "Validation accuracy RF+GB: 0.722902544282124\n"
     ]
    }
   ],
   "source": [
    "X = df_train.drop(columns=['skilled', 'player_team', 'winner_team'])\n",
    "X_test = df_test.drop(columns=['player_team', 'winner_team'])\n",
    "y = df_train['skilled']\n",
    "\n",
    "y_pred_rf = cross_val_predict(\n",
    "    RandomForestClassifier(n_estimators=100),\n",
    "    X, y,\n",
    "    cv=5,\n",
    "    n_jobs=-1,\n",
    "    method='predict_proba'\n",
    ")[:, 1]\n",
    "\n",
    "y_pred_gb = cross_val_predict(\n",
    "    GradientBoostingClassifier(),\n",
    "    X, y,\n",
    "    cv=5,\n",
    "    n_jobs=-1,\n",
    "    method='predict_proba'\n",
    ")[:, 1]\n",
    "\n",
    "y_pred = 0.5 * y_pred_rf + 0.5 * y_pred_gb\n",
    "\n",
    "print('Validation accuracy RF:', accuracy_score(df_train['skilled'], y_pred_rf > 0.5))\n",
    "print('Validation accuracy GB:', accuracy_score(df_train['skilled'], y_pred_gb > 0.5))\n",
    "print('Validation accuracy RF+GB:', accuracy_score(df_train['skilled'], y_pred > 0.5))"
   ]
  },
  {
   "cell_type": "markdown",
   "metadata": {},
   "source": [
    "Сохраним таблицу с предсказаниями."
   ]
  },
  {
   "cell_type": "code",
   "execution_count": 32,
   "metadata": {
    "ExecuteTime": {
     "end_time": "2019-03-08T17:58:01.592810Z",
     "start_time": "2019-03-08T17:56:03.943395Z"
    }
   },
   "outputs": [
    {
     "data": {
      "text/html": [
       "<div>\n",
       "<style scoped>\n",
       "    .dataframe tbody tr th:only-of-type {\n",
       "        vertical-align: middle;\n",
       "    }\n",
       "\n",
       "    .dataframe tbody tr th {\n",
       "        vertical-align: top;\n",
       "    }\n",
       "\n",
       "    .dataframe thead th {\n",
       "        text-align: right;\n",
       "    }\n",
       "</style>\n",
       "<table border=\"1\" class=\"dataframe\">\n",
       "  <thead>\n",
       "    <tr style=\"text-align: right;\">\n",
       "      <th></th>\n",
       "      <th>skilled</th>\n",
       "    </tr>\n",
       "    <tr>\n",
       "      <th>id</th>\n",
       "      <th></th>\n",
       "    </tr>\n",
       "  </thead>\n",
       "  <tbody>\n",
       "    <tr>\n",
       "      <th>193392</th>\n",
       "      <td>0</td>\n",
       "    </tr>\n",
       "    <tr>\n",
       "      <th>193393</th>\n",
       "      <td>0</td>\n",
       "    </tr>\n",
       "    <tr>\n",
       "      <th>193402</th>\n",
       "      <td>0</td>\n",
       "    </tr>\n",
       "    <tr>\n",
       "      <th>193410</th>\n",
       "      <td>0</td>\n",
       "    </tr>\n",
       "    <tr>\n",
       "      <th>193411</th>\n",
       "      <td>0</td>\n",
       "    </tr>\n",
       "  </tbody>\n",
       "</table>\n",
       "</div>"
      ],
      "text/plain": [
       "        skilled\n",
       "id             \n",
       "193392        0\n",
       "193393        0\n",
       "193402        0\n",
       "193410        0\n",
       "193411        0"
      ]
     },
     "execution_count": 32,
     "metadata": {},
     "output_type": "execute_result"
    }
   ],
   "source": [
    "model_rf = RandomForestClassifier(n_estimators=100)\n",
    "model_rf.fit(X, y)\n",
    "y_pred_rf = model_rf.predict_proba(X_test)[:, 1]\n",
    "\n",
    "model_gb = GradientBoostingClassifier()\n",
    "model_gb.fit(X, y)\n",
    "y_pred_gb = model_gb.predict_proba(X_test)[:, 1]\n",
    "\n",
    "y_pred = ((0.5 * y_pred_rf + 0.5 * y_pred_gb) > 0.5).astype(int)\n",
    "df_submission = pandas.DataFrame({'skilled': y_pred}, index=df_test.index)\n",
    "df_submission.to_csv('submission_ensemble.csv')\n",
    "df_submission.tail()"
   ]
  },
  {
   "cell_type": "markdown",
   "metadata": {},
   "source": [
    "### Использовать опыт решения других соревнований\n",
    "\n",
    "[YouTube: Тренировки по машинному обучению](https://www.youtube.com/channel/UCeq6ZIlvC9SVsfhfKnSvM9w)\n",
    "\n",
    "[Материалы Академии Искусственного Интеллекта 2018](http://contest.ai-academy.ru/description)\n",
    "\n",
    "[YouTube: Александр Мамаев — Предсказание победы команды в матче Dota2](https://www.youtube.com/watch?v=YSQqHlQwQDY&t=50s)"
   ]
  }
 ],
 "metadata": {
  "kernelspec": {
   "display_name": "Python 3",
   "language": "python",
   "name": "python3"
  },
  "language_info": {
   "codemirror_mode": {
    "name": "ipython",
    "version": 3
   },
   "file_extension": ".py",
   "mimetype": "text/x-python",
   "name": "python",
   "nbconvert_exporter": "python",
   "pygments_lexer": "ipython3",
   "version": "3.7.4"
  }
 },
 "nbformat": 4,
 "nbformat_minor": 2
}
