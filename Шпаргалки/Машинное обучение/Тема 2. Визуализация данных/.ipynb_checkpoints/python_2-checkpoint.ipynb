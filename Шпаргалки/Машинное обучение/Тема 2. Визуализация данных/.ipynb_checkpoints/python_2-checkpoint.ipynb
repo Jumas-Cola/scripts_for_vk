{
 "cells": [
  {
   "cell_type": "markdown",
   "metadata": {},
   "source": [
    "# Python | Урок 2: визуализация данных"
   ]
  },
  {
   "cell_type": "markdown",
   "metadata": {},
   "source": [
    "## Загрузка необходимых библиотек\n",
    "\n",
    "Для работы нам понадобятся две библиотеки:\n",
    "1. `pandas`: при помощи нее мы считаем из файла таблицу с данными\n",
    "2. `matplotlib`: библиотека для визуализации данных\n",
    "3. `seaborn`: по сути matplotlib на максималках - позволяет легко делать сложные визуализации"
   ]
  },
  {
   "cell_type": "code",
   "execution_count": 1,
   "metadata": {},
   "outputs": [],
   "source": [
    "# Подключаем нужные библиотеки\n",
    "import pandas as pd\n",
    "import matplotlib.pyplot as plt\n",
    "import seaborn as sns\n",
    "\n",
    "%matplotlib inline"
   ]
  },
  {
   "cell_type": "code",
   "execution_count": 2,
   "metadata": {},
   "outputs": [],
   "source": [
    "# Для чтения данных используем метод read_csv\n",
    "table = pd.read_csv('dota2_skill_train.csv', index_col='id')"
   ]
  },
  {
   "cell_type": "markdown",
   "metadata": {},
   "source": [
    "Посмотрим на данные"
   ]
  },
  {
   "cell_type": "code",
   "execution_count": 3,
   "metadata": {},
   "outputs": [
    {
     "data": {
      "text/html": [
       "<div>\n",
       "<style scoped>\n",
       "    .dataframe tbody tr th:only-of-type {\n",
       "        vertical-align: middle;\n",
       "    }\n",
       "\n",
       "    .dataframe tbody tr th {\n",
       "        vertical-align: top;\n",
       "    }\n",
       "\n",
       "    .dataframe thead th {\n",
       "        text-align: right;\n",
       "    }\n",
       "</style>\n",
       "<table border=\"1\" class=\"dataframe\">\n",
       "  <thead>\n",
       "    <tr style=\"text-align: right;\">\n",
       "      <th></th>\n",
       "      <th>skilled</th>\n",
       "      <th>player_team</th>\n",
       "      <th>winner_team</th>\n",
       "      <th>duration</th>\n",
       "      <th>pre_game_duration</th>\n",
       "      <th>first_blood_time</th>\n",
       "      <th>first_blood_claimed</th>\n",
       "      <th>hero_id</th>\n",
       "      <th>hero_pick_order</th>\n",
       "      <th>leaver_status</th>\n",
       "      <th>...</th>\n",
       "      <th>avg_deaths_x16</th>\n",
       "      <th>avg_assists_x16</th>\n",
       "      <th>avg_gpm_x16</th>\n",
       "      <th>avg_xpm_x16</th>\n",
       "      <th>best_kills_x16</th>\n",
       "      <th>best_assists_x16</th>\n",
       "      <th>best_gpm_x16</th>\n",
       "      <th>best_xpm_x16</th>\n",
       "      <th>win_streak</th>\n",
       "      <th>best_win_streak</th>\n",
       "    </tr>\n",
       "    <tr>\n",
       "      <th>id</th>\n",
       "      <th></th>\n",
       "      <th></th>\n",
       "      <th></th>\n",
       "      <th></th>\n",
       "      <th></th>\n",
       "      <th></th>\n",
       "      <th></th>\n",
       "      <th></th>\n",
       "      <th></th>\n",
       "      <th></th>\n",
       "      <th></th>\n",
       "      <th></th>\n",
       "      <th></th>\n",
       "      <th></th>\n",
       "      <th></th>\n",
       "      <th></th>\n",
       "      <th></th>\n",
       "      <th></th>\n",
       "      <th></th>\n",
       "      <th></th>\n",
       "      <th></th>\n",
       "    </tr>\n",
       "  </thead>\n",
       "  <tbody>\n",
       "    <tr>\n",
       "      <td>7</td>\n",
       "      <td>1</td>\n",
       "      <td>dire</td>\n",
       "      <td>dire</td>\n",
       "      <td>2140</td>\n",
       "      <td>90</td>\n",
       "      <td>129</td>\n",
       "      <td>0</td>\n",
       "      <td>90</td>\n",
       "      <td>9</td>\n",
       "      <td>0</td>\n",
       "      <td>...</td>\n",
       "      <td>8</td>\n",
       "      <td>15</td>\n",
       "      <td>352</td>\n",
       "      <td>430</td>\n",
       "      <td>10</td>\n",
       "      <td>30</td>\n",
       "      <td>551</td>\n",
       "      <td>745</td>\n",
       "      <td>2</td>\n",
       "      <td>5</td>\n",
       "    </tr>\n",
       "    <tr>\n",
       "      <td>8</td>\n",
       "      <td>0</td>\n",
       "      <td>radiant</td>\n",
       "      <td>radiant</td>\n",
       "      <td>2138</td>\n",
       "      <td>90</td>\n",
       "      <td>174</td>\n",
       "      <td>0</td>\n",
       "      <td>5</td>\n",
       "      <td>5</td>\n",
       "      <td>0</td>\n",
       "      <td>...</td>\n",
       "      <td>9</td>\n",
       "      <td>19</td>\n",
       "      <td>294</td>\n",
       "      <td>425</td>\n",
       "      <td>13</td>\n",
       "      <td>37</td>\n",
       "      <td>445</td>\n",
       "      <td>717</td>\n",
       "      <td>2</td>\n",
       "      <td>12</td>\n",
       "    </tr>\n",
       "    <tr>\n",
       "      <td>12</td>\n",
       "      <td>0</td>\n",
       "      <td>radiant</td>\n",
       "      <td>radiant</td>\n",
       "      <td>3547</td>\n",
       "      <td>90</td>\n",
       "      <td>360</td>\n",
       "      <td>0</td>\n",
       "      <td>81</td>\n",
       "      <td>7</td>\n",
       "      <td>0</td>\n",
       "      <td>...</td>\n",
       "      <td>7</td>\n",
       "      <td>9</td>\n",
       "      <td>493</td>\n",
       "      <td>543</td>\n",
       "      <td>23</td>\n",
       "      <td>18</td>\n",
       "      <td>691</td>\n",
       "      <td>762</td>\n",
       "      <td>3</td>\n",
       "      <td>3</td>\n",
       "    </tr>\n",
       "    <tr>\n",
       "      <td>13</td>\n",
       "      <td>1</td>\n",
       "      <td>dire</td>\n",
       "      <td>radiant</td>\n",
       "      <td>1878</td>\n",
       "      <td>90</td>\n",
       "      <td>28</td>\n",
       "      <td>0</td>\n",
       "      <td>74</td>\n",
       "      <td>9</td>\n",
       "      <td>0</td>\n",
       "      <td>...</td>\n",
       "      <td>7</td>\n",
       "      <td>12</td>\n",
       "      <td>515</td>\n",
       "      <td>583</td>\n",
       "      <td>25</td>\n",
       "      <td>34</td>\n",
       "      <td>869</td>\n",
       "      <td>935</td>\n",
       "      <td>0</td>\n",
       "      <td>6</td>\n",
       "    </tr>\n",
       "    <tr>\n",
       "      <td>14</td>\n",
       "      <td>1</td>\n",
       "      <td>dire</td>\n",
       "      <td>radiant</td>\n",
       "      <td>2232</td>\n",
       "      <td>90</td>\n",
       "      <td>129</td>\n",
       "      <td>0</td>\n",
       "      <td>14</td>\n",
       "      <td>6</td>\n",
       "      <td>0</td>\n",
       "      <td>...</td>\n",
       "      <td>10</td>\n",
       "      <td>16</td>\n",
       "      <td>337</td>\n",
       "      <td>452</td>\n",
       "      <td>34</td>\n",
       "      <td>43</td>\n",
       "      <td>672</td>\n",
       "      <td>797</td>\n",
       "      <td>0</td>\n",
       "      <td>9</td>\n",
       "    </tr>\n",
       "  </tbody>\n",
       "</table>\n",
       "<p>5 rows × 57 columns</p>\n",
       "</div>"
      ],
      "text/plain": [
       "    skilled player_team winner_team  duration  pre_game_duration  \\\n",
       "id                                                                 \n",
       "7         1        dire        dire      2140                 90   \n",
       "8         0     radiant     radiant      2138                 90   \n",
       "12        0     radiant     radiant      3547                 90   \n",
       "13        1        dire     radiant      1878                 90   \n",
       "14        1        dire     radiant      2232                 90   \n",
       "\n",
       "    first_blood_time  first_blood_claimed  hero_id  hero_pick_order  \\\n",
       "id                                                                    \n",
       "7                129                    0       90                9   \n",
       "8                174                    0        5                5   \n",
       "12               360                    0       81                7   \n",
       "13                28                    0       74                9   \n",
       "14               129                    0       14                6   \n",
       "\n",
       "    leaver_status  ...  avg_deaths_x16  avg_assists_x16  avg_gpm_x16  \\\n",
       "id                 ...                                                 \n",
       "7               0  ...               8               15          352   \n",
       "8               0  ...               9               19          294   \n",
       "12              0  ...               7                9          493   \n",
       "13              0  ...               7               12          515   \n",
       "14              0  ...              10               16          337   \n",
       "\n",
       "    avg_xpm_x16  best_kills_x16  best_assists_x16  best_gpm_x16  best_xpm_x16  \\\n",
       "id                                                                              \n",
       "7           430              10                30           551           745   \n",
       "8           425              13                37           445           717   \n",
       "12          543              23                18           691           762   \n",
       "13          583              25                34           869           935   \n",
       "14          452              34                43           672           797   \n",
       "\n",
       "    win_streak  best_win_streak  \n",
       "id                               \n",
       "7            2                5  \n",
       "8            2               12  \n",
       "12           3                3  \n",
       "13           0                6  \n",
       "14           0                9  \n",
       "\n",
       "[5 rows x 57 columns]"
      ]
     },
     "execution_count": 3,
     "metadata": {},
     "output_type": "execute_result"
    }
   ],
   "source": [
    "table.head()"
   ]
  },
  {
   "cell_type": "markdown",
   "metadata": {},
   "source": [
    "Очень часто важно понимать какие значения принимает признак. Для ответа на этот вопрос нам поможет [гистограмма](https://ru.wikipedia.org/wiki/%D0%93%D0%B8%D1%81%D1%82%D0%BE%D0%B3%D1%80%D0%B0%D0%BC%D0%BC%D0%B0).\n",
    "\n",
    "Гистограмма выглядит следующим образом:\n",
    "- На оси **х** располагаются значения признака\n",
    "- А на оси **y** - количество строк с таким значением признака"
   ]
  },
  {
   "cell_type": "code",
   "execution_count": 4,
   "metadata": {},
   "outputs": [
    {
     "data": {
      "image/png": "[encoded data removed]",
      "text/plain": [
       "<Figure size 432x288 with 1 Axes>"
      ]
     },
     "metadata": {
      "needs_background": "light"
     },
     "output_type": "display_data"
    }
   ],
   "source": [
    "# Берем колонку gold_per_min - скорость зарабатывания золота\n",
    "# Строим график используя метод hist датафрейма table\n",
    "table.hist('gold_per_min', bins=50);"
   ]
  },
  {
   "cell_type": "markdown",
   "metadata": {},
   "source": [
    "Из гистограммы видно, что скорость зарабатывания золота принимает значения больше `1500` довольно редко. Сохраним в данных только те строки, где **gold_per_min** меньше `1500`."
   ]
  },
  {
   "cell_type": "code",
   "execution_count": 5,
   "metadata": {},
   "outputs": [],
   "source": [
    "# Сделаем новую таблицу, сокращенную\n",
    "table_truncated = table.query('gold_per_min < 1500')"
   ]
  },
  {
   "cell_type": "markdown",
   "metadata": {},
   "source": [
    "Давайте сравним размеры нового и исходного датафреймов"
   ]
  },
  {
   "cell_type": "code",
   "execution_count": 6,
   "metadata": {},
   "outputs": [
    {
     "name": "stdout",
     "output_type": "stream",
     "text": [
      "Размер table:  (99871, 57)\n",
      "Размер table_truncated:  (99535, 57)\n"
     ]
    }
   ],
   "source": [
    "# Для этого используем метод shape - он показывает сколько строк и столбцов содержатся в датафрейме\n",
    "print(\"Размер table: \", table.shape)\n",
    "print(\"Размер table_truncated: \", table_truncated.shape)"
   ]
  },
  {
   "cell_type": "markdown",
   "metadata": {},
   "source": [
    "Теперь гистограмма выглядит иначе"
   ]
  },
  {
   "cell_type": "code",
   "execution_count": 12,
   "metadata": {},
   "outputs": [
    {
     "data": {
      "image/png": "[encoded data removed]",
      "text/plain": [
       "<matplotlib.figure.Figure at 0x1a15401d68>"
      ]
     },
     "metadata": {},
     "output_type": "display_data"
    }
   ],
   "source": [
    "# Строим график методом hist нового датафрейма table_truncated\n",
    "table_truncated.hist('gold_per_min', bins=50);"
   ]
  },
  {
   "cell_type": "markdown",
   "metadata": {},
   "source": [
    "**Совмещение нескольких гистограмм на одном графике позволяет обнаруживать закономерности в данных.**\n",
    "\n",
    "Например, рассмотрим показатель `gold` (число золота на момент игры), зависит ли чило золота от опыта игрока? \n",
    "\n",
    "Если нарисовать гистограммы `gold` для опытных игроков (голубой цвет) и для новичков (оранжевый), можно видеть существенное отличие гистограмм друг от друга, что намекает на наличие связи между опытом и количеством золота."
   ]
  },
  {
   "cell_type": "code",
   "execution_count": 12,
   "metadata": {},
   "outputs": [
    {
     "data": {
      "image/png": "[encoded data removed]",
      "text/plain": [
       "<Figure size 432x288 with 1 Axes>"
      ]
     },
     "metadata": {
      "needs_background": "light"
     },
     "output_type": "display_data"
    }
   ],
   "source": [
    "# Подготовим нужные выборки методом groupby\n",
    "# groupby группирует данные по значениям категориальной переменной, \n",
    "# что позволяет рисовать несколько графиков на одной картинке\n",
    "\n",
    "table_truncated.groupby('skilled')['gold'].hist(alpha=0.5, bins=50)\n",
    "plt.legend(table_truncated['skilled'].unique());"
   ]
  },
  {
   "cell_type": "markdown",
   "metadata": {},
   "source": [
    "Также метод groupby позволяет на ходу считать средние. Вот пример подсчета средних значений `gold` на разных уровнях категориальной переменной `skilled`."
   ]
  },
  {
   "cell_type": "code",
   "execution_count": 13,
   "metadata": {},
   "outputs": [
    {
     "data": {
      "text/plain": [
       "skilled\n",
       "0    1947.379907\n",
       "1    1933.366405\n",
       "Name: gold, dtype: float64"
      ]
     },
     "execution_count": 13,
     "metadata": {},
     "output_type": "execute_result"
    }
   ],
   "source": [
    "table_truncated.groupby('skilled')['gold'].mean()"
   ]
  },
  {
   "cell_type": "markdown",
   "metadata": {},
   "source": [
    "Сейчас вам кажется, что они почти одинаковы. И среднее количество золота у неопытных игроков даже больше - довольно странно, не правда ли?  \n",
    "\n",
    "И тут датасайентистам на помощь приходит **медиана** - это значение, расположенное посередине всей выборки. Половина всех возможных значение признака (в нашем случае gold) больше нее, а половина меньше. Это более информативный показатель, чем **среднее арифметическое** (mean). "
   ]
  },
  {
   "cell_type": "code",
   "execution_count": 15,
   "metadata": {},
   "outputs": [
    {
     "data": {
      "text/plain": [
       "skilled\n",
       "0    1398\n",
       "1    1411\n",
       "Name: gold, dtype: int64"
      ]
     },
     "execution_count": 15,
     "metadata": {},
     "output_type": "execute_result"
    }
   ],
   "source": [
    "table_truncated.groupby('skilled')['gold'].median()"
   ]
  },
  {
   "cell_type": "markdown",
   "metadata": {},
   "source": [
    "Как видите, у опытных игроков \"середина\" имеет большее значение, чем у неопытных - что уже совсем не противоречит здравому смыслу!"
   ]
  },
  {
   "cell_type": "markdown",
   "metadata": {},
   "source": [
    "### Проверим гипотезу\n",
    "\n",
    "Поскольку герои в игре развиваются с течением времени, зарабатывая золото и опыт, естественным образом возникает вопрос:   \n",
    "\"Зависит ли скорость зарабатывания золота от скорости приобретения опыта, если да, то как?\"\n",
    "\n",
    "Чтобы ответить на этот вопрос, достаточно построить график зависимости золота от опыта. В этом нам поможет [диаграмма рассеяния](https://ru.wikipedia.org/wiki/Диаграмма_рассеяния) (eng.: Scatter Plot), которая строится следующим образом:\n",
    "- Берется одна строка из таблицы данных\n",
    "- Значение показателя `xp_per_min` откладывается по оси x\n",
    "- Значение показателя `gold_per_min` откладывается по оси y\n",
    "- В результате получается точка на плоскости\n",
    "- Алгоритм повторяется для всех строк в данных"
   ]
  },
  {
   "cell_type": "code",
   "execution_count": 14,
   "metadata": {},
   "outputs": [
    {
     "data": {
      "image/png": "[encoded data removed]",
      "text/plain": [
       "<Figure size 432x288 with 1 Axes>"
      ]
     },
     "metadata": {
      "needs_background": "light"
     },
     "output_type": "display_data"
    }
   ],
   "source": [
    "# Диаграмму можно легко построить с помощью встроенной функции plot библитеки pandas\n",
    "table_truncated.plot(kind='scatter', x='xp_per_min', y='gold_per_min');"
   ]
  },
  {
   "cell_type": "code",
   "execution_count": 15,
   "metadata": {},
   "outputs": [
    {
     "data": {
      "image/png": "[encoded data removed]",
      "text/plain": [
       "<Figure size 648x360 with 1 Axes>"
      ]
     },
     "metadata": {
      "needs_background": "light"
     },
     "output_type": "display_data"
    }
   ],
   "source": [
    "# Либо с помощью matplotlib:\n",
    "# - figure - создает пустой холст\n",
    "# - scatter - наносит точки на холст\n",
    "# - show - отображает картинку\n",
    "\n",
    "plt.figure(figsize=(9, 5))\n",
    "plt.scatter(table_truncated['xp_per_min'], table_truncated['gold_per_min']);"
   ]
  },
  {
   "cell_type": "markdown",
   "metadata": {},
   "source": [
    "Из графика легко видеть, что между признаками **'xp_per_min'** и **'gold_per_min'** есть зависимость, причем линейная, т.е. существует формула\n",
    "$$gold = k \\cdot xp + b,$$\n",
    "где k и b - некоторые числовые константы."
   ]
  },
  {
   "cell_type": "markdown",
   "metadata": {},
   "source": [
    "Для того, чтобы посмотреть на взаимосвязь двух численных признаков в подробностях, у seaborn есть **joint plot** — это гибрид **scatter plot** и **histogram**. \n",
    "\n",
    "А если указать параметр kind = 'reg', то seaborn нарисует ту самую **линию**, которая покажет **линейную зависимость** обнаруженную нами на предыдущем графике."
   ]
  },
  {
   "cell_type": "code",
   "execution_count": 16,
   "metadata": {},
   "outputs": [
    {
     "data": {
      "image/png": "[encoded data removed]",
      "text/plain": [
       "<Figure size 432x432 with 3 Axes>"
      ]
     },
     "metadata": {
      "needs_background": "light"
     },
     "output_type": "display_data"
    }
   ],
   "source": [
    "sns.jointplot(x='xp_per_min', y='gold_per_min', data = table_truncated, kind = 'reg');"
   ]
  },
  {
   "cell_type": "code",
   "execution_count": null,
   "metadata": {},
   "outputs": [],
   "source": []
  }
 ],
 "metadata": {
  "kernelspec": {
   "display_name": "Python 3",
   "language": "python",
   "name": "python3"
  },
  "language_info": {
   "codemirror_mode": {
    "name": "ipython",
    "version": 3
   },
   "file_extension": ".py",
   "mimetype": "text/x-python",
   "name": "python",
   "nbconvert_exporter": "python",
   "pygments_lexer": "ipython3",
   "version": "3.7.4"
  }
 },
 "nbformat": 4,
 "nbformat_minor": 2
}
